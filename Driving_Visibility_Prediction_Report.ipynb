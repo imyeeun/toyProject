{
 "cells": [
  {
   "cell_type": "markdown",
   "metadata": {},
   "source": [
    "# import library"
   ]
  },
  {
   "cell_type": "code",
   "execution_count": 1,
   "metadata": {},
   "outputs": [
    {
     "name": "stderr",
     "output_type": "stream",
     "text": [
      "-- Attaching packages --------------------------------------- tidyverse 1.3.0 --\n",
      "√ ggplot2 3.2.1     √ dplyr   0.8.3\n",
      "√ tibble  2.1.3     √ stringr 1.4.0\n",
      "√ tidyr   1.0.0     √ forcats 0.4.0\n",
      "√ purrr   0.3.3     \n",
      "-- Conflicts ------------------------------------------ tidyverse_conflicts() --\n",
      "x dplyr::filter() masks stats::filter()\n",
      "x dplyr::lag()    masks stats::lag()\n",
      "corrplot 0.84 loaded\n",
      "Loading required package: xts\n",
      "Loading required package: zoo\n",
      "\n",
      "Attaching package: 'zoo'\n",
      "\n",
      "The following objects are masked from 'package:base':\n",
      "\n",
      "    as.Date, as.Date.numeric\n",
      "\n",
      "Registered S3 method overwritten by 'xts':\n",
      "  method     from\n",
      "  as.zoo.xts zoo \n",
      "\n",
      "Attaching package: 'xts'\n",
      "\n",
      "The following objects are masked from 'package:dplyr':\n",
      "\n",
      "    first, last\n",
      "\n",
      "\n",
      "Attaching package: 'PerformanceAnalytics'\n",
      "\n",
      "The following object is masked from 'package:graphics':\n",
      "\n",
      "    legend\n",
      "\n",
      "\n",
      "Attaching package: 'MASS'\n",
      "\n",
      "The following object is masked from 'package:dplyr':\n",
      "\n",
      "    select\n",
      "\n",
      "Loading required package: carData\n",
      "\n",
      "Attaching package: 'car'\n",
      "\n",
      "The following object is masked from 'package:dplyr':\n",
      "\n",
      "    recode\n",
      "\n",
      "The following object is masked from 'package:purrr':\n",
      "\n",
      "    some\n",
      "\n"
     ]
    }
   ],
   "source": [
    "library(readr)\n",
    "library(tidyverse)\n",
    "library(DT)\n",
    "library(DataExplorer)\n",
    "library(Kendall)\n",
    "library(vroom)\n",
    "library(corrplot)\n",
    "library(RColorBrewer)\n",
    "library(PerformanceAnalytics)\n",
    "library(MASS)\n",
    "library(lmtest)\n",
    "library(car)\n",
    "library(fmsb)\n",
    "library(outliers)"
   ]
  },
  {
   "cell_type": "code",
   "execution_count": 2,
   "metadata": {},
   "outputs": [],
   "source": [
    "data <- read.csv(file = \"train.csv\", header = T)"
   ]
  },
  {
   "cell_type": "code",
   "execution_count": 3,
   "metadata": {},
   "outputs": [
    {
     "data": {
      "text/html": [
       "<table>\n",
       "<thead><tr><th scope=col>Formatted.Date</th><th scope=col>Summary</th><th scope=col>Precip.Type</th><th scope=col>Temperature..C.</th><th scope=col>Apparent.Temperature..C.</th><th scope=col>Humidity</th><th scope=col>Wind.Speed..km.h.</th><th scope=col>Wind.Bearing..degrees.</th><th scope=col>Pressure..millibars.</th><th scope=col>Visibility</th></tr></thead>\n",
       "<tbody>\n",
       "\t<tr><td>2006-04-01 00:00:00.000 +0200</td><td>Partly Cloudy                </td><td>rain                         </td><td>9.472222                     </td><td>7.388889                     </td><td>0.89                         </td><td>14.1197                      </td><td>251                          </td><td>1015.13                      </td><td>15.8263                      </td></tr>\n",
       "\t<tr><td>2006-04-01 01:00:00.000 +0200</td><td>Partly Cloudy                </td><td>rain                         </td><td>9.355556                     </td><td>7.227778                     </td><td>0.86                         </td><td>14.2646                      </td><td>259                          </td><td>1015.63                      </td><td>15.8263                      </td></tr>\n",
       "\t<tr><td>2006-04-01 02:00:00.000 +0200</td><td>Mostly Cloudy                </td><td>rain                         </td><td>9.377778                     </td><td>9.377778                     </td><td>0.89                         </td><td> 3.9284                      </td><td>204                          </td><td>1015.94                      </td><td>14.9569                      </td></tr>\n",
       "\t<tr><td>2006-04-01 03:00:00.000 +0200</td><td>Partly Cloudy                </td><td>rain                         </td><td>8.288889                     </td><td>5.944444                     </td><td>0.83                         </td><td>14.1036                      </td><td>269                          </td><td>1016.41                      </td><td>15.8263                      </td></tr>\n",
       "\t<tr><td>2006-04-01 04:00:00.000 +0200</td><td>Mostly Cloudy                </td><td>rain                         </td><td>8.755556                     </td><td>6.977778                     </td><td>0.83                         </td><td>11.0446                      </td><td>259                          </td><td>1016.51                      </td><td>15.8263                      </td></tr>\n",
       "\t<tr><td>2006-04-01 05:00:00.000 +0200</td><td>Partly Cloudy                </td><td>rain                         </td><td>9.222222                     </td><td>7.111111                     </td><td>0.85                         </td><td>13.9587                      </td><td>258                          </td><td>1016.66                      </td><td>14.9569                      </td></tr>\n",
       "</tbody>\n",
       "</table>\n"
      ],
      "text/latex": [
       "\\begin{tabular}{r|llllllllll}\n",
       " Formatted.Date & Summary & Precip.Type & Temperature..C. & Apparent.Temperature..C. & Humidity & Wind.Speed..km.h. & Wind.Bearing..degrees. & Pressure..millibars. & Visibility\\\\\n",
       "\\hline\n",
       "\t 2006-04-01 00:00:00.000 +0200 & Partly Cloudy                 & rain                          & 9.472222                      & 7.388889                      & 0.89                          & 14.1197                       & 251                           & 1015.13                       & 15.8263                      \\\\\n",
       "\t 2006-04-01 01:00:00.000 +0200 & Partly Cloudy                 & rain                          & 9.355556                      & 7.227778                      & 0.86                          & 14.2646                       & 259                           & 1015.63                       & 15.8263                      \\\\\n",
       "\t 2006-04-01 02:00:00.000 +0200 & Mostly Cloudy                 & rain                          & 9.377778                      & 9.377778                      & 0.89                          &  3.9284                       & 204                           & 1015.94                       & 14.9569                      \\\\\n",
       "\t 2006-04-01 03:00:00.000 +0200 & Partly Cloudy                 & rain                          & 8.288889                      & 5.944444                      & 0.83                          & 14.1036                       & 269                           & 1016.41                       & 15.8263                      \\\\\n",
       "\t 2006-04-01 04:00:00.000 +0200 & Mostly Cloudy                 & rain                          & 8.755556                      & 6.977778                      & 0.83                          & 11.0446                       & 259                           & 1016.51                       & 15.8263                      \\\\\n",
       "\t 2006-04-01 05:00:00.000 +0200 & Partly Cloudy                 & rain                          & 9.222222                      & 7.111111                      & 0.85                          & 13.9587                       & 258                           & 1016.66                       & 14.9569                      \\\\\n",
       "\\end{tabular}\n"
      ],
      "text/markdown": [
       "\n",
       "| Formatted.Date | Summary | Precip.Type | Temperature..C. | Apparent.Temperature..C. | Humidity | Wind.Speed..km.h. | Wind.Bearing..degrees. | Pressure..millibars. | Visibility |\n",
       "|---|---|---|---|---|---|---|---|---|---|\n",
       "| 2006-04-01 00:00:00.000 +0200 | Partly Cloudy                 | rain                          | 9.472222                      | 7.388889                      | 0.89                          | 14.1197                       | 251                           | 1015.13                       | 15.8263                       |\n",
       "| 2006-04-01 01:00:00.000 +0200 | Partly Cloudy                 | rain                          | 9.355556                      | 7.227778                      | 0.86                          | 14.2646                       | 259                           | 1015.63                       | 15.8263                       |\n",
       "| 2006-04-01 02:00:00.000 +0200 | Mostly Cloudy                 | rain                          | 9.377778                      | 9.377778                      | 0.89                          |  3.9284                       | 204                           | 1015.94                       | 14.9569                       |\n",
       "| 2006-04-01 03:00:00.000 +0200 | Partly Cloudy                 | rain                          | 8.288889                      | 5.944444                      | 0.83                          | 14.1036                       | 269                           | 1016.41                       | 15.8263                       |\n",
       "| 2006-04-01 04:00:00.000 +0200 | Mostly Cloudy                 | rain                          | 8.755556                      | 6.977778                      | 0.83                          | 11.0446                       | 259                           | 1016.51                       | 15.8263                       |\n",
       "| 2006-04-01 05:00:00.000 +0200 | Partly Cloudy                 | rain                          | 9.222222                      | 7.111111                      | 0.85                          | 13.9587                       | 258                           | 1016.66                       | 14.9569                       |\n",
       "\n"
      ],
      "text/plain": [
       "  Formatted.Date                Summary       Precip.Type Temperature..C.\n",
       "1 2006-04-01 00:00:00.000 +0200 Partly Cloudy rain        9.472222       \n",
       "2 2006-04-01 01:00:00.000 +0200 Partly Cloudy rain        9.355556       \n",
       "3 2006-04-01 02:00:00.000 +0200 Mostly Cloudy rain        9.377778       \n",
       "4 2006-04-01 03:00:00.000 +0200 Partly Cloudy rain        8.288889       \n",
       "5 2006-04-01 04:00:00.000 +0200 Mostly Cloudy rain        8.755556       \n",
       "6 2006-04-01 05:00:00.000 +0200 Partly Cloudy rain        9.222222       \n",
       "  Apparent.Temperature..C. Humidity Wind.Speed..km.h. Wind.Bearing..degrees.\n",
       "1 7.388889                 0.89     14.1197           251                   \n",
       "2 7.227778                 0.86     14.2646           259                   \n",
       "3 9.377778                 0.89      3.9284           204                   \n",
       "4 5.944444                 0.83     14.1036           269                   \n",
       "5 6.977778                 0.83     11.0446           259                   \n",
       "6 7.111111                 0.85     13.9587           258                   \n",
       "  Pressure..millibars. Visibility\n",
       "1 1015.13              15.8263   \n",
       "2 1015.63              15.8263   \n",
       "3 1015.94              14.9569   \n",
       "4 1016.41              15.8263   \n",
       "5 1016.51              15.8263   \n",
       "6 1016.66              14.9569   "
      ]
     },
     "metadata": {},
     "output_type": "display_data"
    }
   ],
   "source": [
    "head(data)"
   ]
  },
  {
   "cell_type": "code",
   "execution_count": 4,
   "metadata": {},
   "outputs": [],
   "source": [
    "data <- data.frame(data)"
   ]
  },
  {
   "cell_type": "code",
   "execution_count": 5,
   "metadata": {},
   "outputs": [
    {
     "data": {
      "text/html": [
       "<table>\n",
       "<thead><tr><th scope=col>rows</th><th scope=col>columns</th><th scope=col>discrete_columns</th><th scope=col>continuous_columns</th><th scope=col>all_missing_columns</th><th scope=col>total_missing_values</th><th scope=col>complete_rows</th><th scope=col>total_observations</th><th scope=col>memory_usage</th></tr></thead>\n",
       "<tbody>\n",
       "\t<tr><td>50000  </td><td>10     </td><td>3      </td><td>7      </td><td>0      </td><td>0      </td><td>50000  </td><td>500000 </td><td>7604072</td></tr>\n",
       "</tbody>\n",
       "</table>\n"
      ],
      "text/latex": [
       "\\begin{tabular}{r|lllllllll}\n",
       " rows & columns & discrete\\_columns & continuous\\_columns & all\\_missing\\_columns & total\\_missing\\_values & complete\\_rows & total\\_observations & memory\\_usage\\\\\n",
       "\\hline\n",
       "\t 50000   & 10      & 3       & 7       & 0       & 0       & 50000   & 500000  & 7604072\\\\\n",
       "\\end{tabular}\n"
      ],
      "text/markdown": [
       "\n",
       "| rows | columns | discrete_columns | continuous_columns | all_missing_columns | total_missing_values | complete_rows | total_observations | memory_usage |\n",
       "|---|---|---|---|---|---|---|---|---|\n",
       "| 50000   | 10      | 3       | 7       | 0       | 0       | 50000   | 500000  | 7604072 |\n",
       "\n"
      ],
      "text/plain": [
       "  rows  columns discrete_columns continuous_columns all_missing_columns\n",
       "1 50000 10      3                7                  0                  \n",
       "  total_missing_values complete_rows total_observations memory_usage\n",
       "1 0                    50000         500000             7604072     "
      ]
     },
     "metadata": {},
     "output_type": "display_data"
    }
   ],
   "source": [
    "introduce(data = data)"
   ]
  },
  {
   "cell_type": "code",
   "execution_count": 6,
   "metadata": {},
   "outputs": [],
   "source": [
    "data$Formatted.Date <- as.Date(data$Formatted.Date)"
   ]
  },
  {
   "cell_type": "code",
   "execution_count": 7,
   "metadata": {},
   "outputs": [
    {
     "name": "stdout",
     "output_type": "stream",
     "text": [
      "'data.frame':\t50000 obs. of  10 variables:\n",
      " $ Formatted.Date          : Date, format: \"2006-04-01\" \"2006-04-01\" ...\n",
      " $ Summary                 : Factor w/ 21 levels \"Breezy\",\"Breezy and Foggy\",..: 16 16 14 16 14 16 16 16 16 16 ...\n",
      " $ Precip.Type             : Factor w/ 2 levels \"rain\",\"snow\": 1 1 1 1 1 1 1 1 1 1 ...\n",
      " $ Temperature..C.         : num  9.47 9.36 9.38 8.29 8.76 ...\n",
      " $ Apparent.Temperature..C.: num  7.39 7.23 9.38 5.94 6.98 ...\n",
      " $ Humidity                : num  0.89 0.86 0.89 0.83 0.83 0.85 0.95 0.89 0.82 0.72 ...\n",
      " $ Wind.Speed..km.h.       : num  14.12 14.26 3.93 14.1 11.04 ...\n",
      " $ Wind.Bearing..degrees.  : int  251 259 204 269 259 258 259 260 259 279 ...\n",
      " $ Pressure..millibars.    : num  1015 1016 1016 1016 1017 ...\n",
      " $ Visibility              : num  15.8 15.8 15 15.8 15.8 ...\n"
     ]
    }
   ],
   "source": [
    "str(data)"
   ]
  },
  {
   "cell_type": "markdown",
   "metadata": {},
   "source": [
    "# check missing value"
   ]
  },
  {
   "cell_type": "code",
   "execution_count": 8,
   "metadata": {},
   "outputs": [
    {
     "data": {
      "image/png": "[encoded data removed]",
      "text/plain": [
       "plot without title"
      ]
     },
     "metadata": {},
     "output_type": "display_data"
    }
   ],
   "source": [
    "plot_missing(data = data)"
   ]
  },
  {
   "cell_type": "markdown",
   "metadata": {},
   "source": [
    "# visualize"
   ]
  },
  {
   "cell_type": "code",
   "execution_count": 9,
   "metadata": {},
   "outputs": [
    {
     "name": "stderr",
     "output_type": "stream",
     "text": [
      "1 columns ignored with more than 50 categories.\n",
      "Formatted.Date: 2083 categories\n",
      "\n"
     ]
    },
    {
     "data": {
      "image/png": "[encoded data removed]",
      "text/plain": [
       "plot without title"
      ]
     },
     "metadata": {},
     "output_type": "display_data"
    }
   ],
   "source": [
    "plot_bar(data = data)"
   ]
  },
  {
   "cell_type": "code",
   "execution_count": 10,
   "metadata": {},
   "outputs": [
    {
     "data": {
      "image/png": "[encoded data removed]",
      "text/plain": [
       "plot without title"
      ]
     },
     "metadata": {},
     "output_type": "display_data"
    }
   ],
   "source": [
    "plot_histogram(data = data)"
   ]
  },
  {
   "cell_type": "markdown",
   "metadata": {},
   "source": [
    "# correlation"
   ]
  },
  {
   "cell_type": "code",
   "execution_count": 14,
   "metadata": {},
   "outputs": [
    {
     "data": {
      "image/png": "[encoded data removed]",
      "text/plain": [
       "plot without title"
      ]
     },
     "metadata": {},
     "output_type": "display_data"
    }
   ],
   "source": [
    "pairs(data)"
   ]
  },
  {
   "cell_type": "code",
   "execution_count": 12,
   "metadata": {},
   "outputs": [
    {
     "data": {
      "image/png": "[encoded data removed]",
      "text/plain": [
       "Plot with title \"\""
      ]
     },
     "metadata": {},
     "output_type": "display_data"
    }
   ],
   "source": [
    "M <-cor(data %>% \n",
    "          dplyr::select(Temperature..C., Apparent.Temperature..C., Humidity , Wind.Speed..km.h.,Wind.Bearing..degrees., Pressure..millibars., Visibility))\n",
    "\n",
    "corrplot(M, type=\"upper\", order = \"original\",col=brewer.pal(n=8, name=\"RdYlBu\"))"
   ]
  },
  {
   "cell_type": "markdown",
   "metadata": {},
   "source": [
    "Temperature..C. 변수와 Apparent.Temperature..C. 변수의 상관관계가 매우 높음을 알 수 있다. 이는 Apparent.Temperature..C. 변수가 습도와 기온이 복합되어 실제로 느끼는 온도를 의미하기 때문이다. 이 두 변수는 후에 처리할 것이다."
   ]
  },
  {
   "cell_type": "code",
   "execution_count": 13,
   "metadata": {},
   "outputs": [
    {
     "data": {
      "image/png": "[encoded data removed]",
      "text/plain": [
       "Plot with title \"\""
      ]
     },
     "metadata": {},
     "output_type": "display_data"
    }
   ],
   "source": [
    "chart.Correlation(data %>% \n",
    "              dplyr::select(Temperature..C., Apparent.Temperature..C., Humidity , Wind.Speed..km.h., Pressure..millibars., Visibility), histogram=TRUE, pch=19)"
   ]
  },
  {
   "cell_type": "markdown",
   "metadata": {},
   "source": [
    "# outlier detection, box plot"
   ]
  },
  {
   "cell_type": "code",
   "execution_count": 15,
   "metadata": {},
   "outputs": [
    {
     "data": {
      "image/png": "[encoded data removed]",
      "text/plain": [
       "Plot with title \"Visibility\""
      ]
     },
     "metadata": {},
     "output_type": "display_data"
    }
   ],
   "source": [
    "par(mfrow=c(4,2))\n",
    "boxplot(data$Temperature..C., horizontal = T, main=\"emperature..C.\")\n",
    "boxplot(data$Apparent.Temperature..C., horizontal = T, main=\"Apparent.Temperature..C.\")\n",
    "\n",
    "boxplot(data$Humidity, horizontal = T, main=\"Humidity\")\n",
    "boxplot(data$Wind.Speed..km.h., horizontal = T, main=\"Wind.Speed..km.h.\")\n",
    "\n",
    "boxplot(data$Wind.Bearing..degrees., horizontal = T, main=\"Wind.Bearing..degrees.\")\n",
    "boxplot(data$Pressure..millibars., horizontal = T, main=\"Pressure..millibars.\")\n",
    "\n",
    "boxplot(data$Visibility, horizontal = T, main=\"Visibility\")\n"
   ]
  },
  {
   "cell_type": "markdown",
   "metadata": {},
   "source": [
    "> 귀무가설 : 회귀모형은 타당하지 않다.\n",
    "\n",
    "> 대립가설 : 회귀모형은 타당하다."
   ]
  },
  {
   "cell_type": "markdown",
   "metadata": {},
   "source": [
    "# model selection - linear regression model"
   ]
  },
  {
   "cell_type": "code",
   "execution_count": 22,
   "metadata": {},
   "outputs": [
    {
     "data": {
      "text/plain": [
       "\n",
       "Call:\n",
       "lm(formula = data$Visibility ~ Formatted.Date + Summary + Precip.Type + \n",
       "    Temperature..C. + Apparent.Temperature..C. + Humidity + Wind.Speed..km.h. + \n",
       "    Wind.Bearing..degrees. + Pressure..millibars., data = data)\n",
       "\n",
       "Residuals:\n",
       "     Min       1Q   Median       3Q      Max \n",
       "-12.4408  -1.4567  -0.5285   1.2841   8.6995 \n",
       "\n",
       "Coefficients:\n",
       "                                             Estimate Std. Error t value\n",
       "(Intercept)                                 1.478e+01  6.280e-01  23.530\n",
       "Formatted.Date                             -2.871e-04  2.101e-05 -13.663\n",
       "SummaryBreezy and Foggy                    -9.894e+00  1.082e+00  -9.141\n",
       "SummaryBreezy and Mostly Cloudy            -1.752e+00  5.667e-01  -3.092\n",
       "SummaryBreezy and Overcast                 -1.134e+00  5.687e-01  -1.995\n",
       "SummaryBreezy and Partly Cloudy            -1.913e+00  5.702e-01  -3.354\n",
       "SummaryClear                               -6.600e-01  5.440e-01  -1.213\n",
       "SummaryDangerously Windy and Partly Cloudy -2.627e+00  2.861e+00  -0.918\n",
       "SummaryDry                                 -3.028e+00  8.433e-01  -3.591\n",
       "SummaryDry and Partly Cloudy               -2.580e+00  7.314e-01  -3.527\n",
       "SummaryFoggy                               -9.237e+00  5.453e-01 -16.941\n",
       "SummaryHumid and Mostly Cloudy             -1.945e+00  8.711e-01  -2.233\n",
       "SummaryHumid and Overcast                  -5.930e+00  2.860e+00  -2.073\n",
       "SummaryHumid and Partly Cloudy             -1.545e+00  9.061e-01  -1.706\n",
       "SummaryMostly Cloudy                       -1.321e+00  5.430e-01  -2.433\n",
       "SummaryOvercast                            -2.690e+00  5.432e-01  -4.952\n",
       "SummaryPartly Cloudy                       -1.209e+00  5.432e-01  -2.226\n",
       "SummaryWindy                               -8.889e-01  1.506e+00  -0.590\n",
       "SummaryWindy and Foggy                     -1.059e+01  2.059e+00  -5.145\n",
       "SummaryWindy and Mostly Cloudy             -2.276e+00  8.183e-01  -2.781\n",
       "SummaryWindy and Overcast                  -3.207e+00  7.402e-01  -4.332\n",
       "SummaryWindy and Partly Cloudy             -2.126e+00  6.793e-01  -3.130\n",
       "Precip.Typesnow                            -1.417e+00  4.959e-02 -28.571\n",
       "Temperature..C.                            -2.675e-02  1.323e-02  -2.023\n",
       "Apparent.Temperature..C.                    4.762e-02  1.168e-02   4.077\n",
       "Humidity                                   -6.064e-01  9.584e-02  -6.327\n",
       "Wind.Speed..km.h.                           3.431e-02  2.570e-03  13.349\n",
       "Wind.Bearing..degrees.                      7.063e-04  1.187e-04   5.948\n",
       "Pressure..millibars.                        1.138e-03  1.086e-04  10.480\n",
       "                                           Pr(>|t|)    \n",
       "(Intercept)                                 < 2e-16 ***\n",
       "Formatted.Date                              < 2e-16 ***\n",
       "SummaryBreezy and Foggy                     < 2e-16 ***\n",
       "SummaryBreezy and Mostly Cloudy            0.001989 ** \n",
       "SummaryBreezy and Overcast                 0.046099 *  \n",
       "SummaryBreezy and Partly Cloudy            0.000796 ***\n",
       "SummaryClear                               0.225076    \n",
       "SummaryDangerously Windy and Partly Cloudy 0.358389    \n",
       "SummaryDry                                 0.000330 ***\n",
       "SummaryDry and Partly Cloudy               0.000420 ***\n",
       "SummaryFoggy                                < 2e-16 ***\n",
       "SummaryHumid and Mostly Cloudy             0.025553 *  \n",
       "SummaryHumid and Overcast                  0.038169 *  \n",
       "SummaryHumid and Partly Cloudy             0.088086 .  \n",
       "SummaryMostly Cloudy                       0.014970 *  \n",
       "SummaryOvercast                            7.36e-07 ***\n",
       "SummaryPartly Cloudy                       0.026008 *  \n",
       "SummaryWindy                               0.555065    \n",
       "SummaryWindy and Foggy                     2.68e-07 ***\n",
       "SummaryWindy and Mostly Cloudy             0.005425 ** \n",
       "SummaryWindy and Overcast                  1.48e-05 ***\n",
       "SummaryWindy and Partly Cloudy             0.001752 ** \n",
       "Precip.Typesnow                             < 2e-16 ***\n",
       "Temperature..C.                            0.043088 *  \n",
       "Apparent.Temperature..C.                   4.57e-05 ***\n",
       "Humidity                                   2.52e-10 ***\n",
       "Wind.Speed..km.h.                           < 2e-16 ***\n",
       "Wind.Bearing..degrees.                     2.74e-09 ***\n",
       "Pressure..millibars.                        < 2e-16 ***\n",
       "---\n",
       "Signif. codes:  0 '***' 0.001 '**' 0.01 '*' 0.05 '.' 0.1 ' ' 1\n",
       "\n",
       "Residual standard error: 2.808 on 49971 degrees of freedom\n",
       "Multiple R-squared:  0.4608,\tAdjusted R-squared:  0.4605 \n",
       "F-statistic:  1525 on 28 and 49971 DF,  p-value: < 2.2e-16\n"
      ]
     },
     "metadata": {},
     "output_type": "display_data"
    }
   ],
   "source": [
    "full.model<- lm(data$Visibility~., \n",
    "                data = data)\n",
    "\n",
    "step.model <- stepAIC(full.model,\n",
    "                      direction = \"both\", \n",
    "                      trace = FALSE)\n",
    "\n",
    "summary(step.model)"
   ]
  },
  {
   "cell_type": "code",
   "execution_count": 23,
   "metadata": {},
   "outputs": [
    {
     "name": "stderr",
     "output_type": "stream",
     "text": [
      "Warning message:\n",
      "\"not plotting observations with leverage one:\n",
      "  12182, 36470\"Warning message:\n",
      "\"not plotting observations with leverage one:\n",
      "  12182, 36470\""
     ]
    },
    {
     "data": {
      "image/png": "[encoded data removed]",
      "text/plain": [
       "Plot with title \"\""
      ]
     },
     "metadata": {},
     "output_type": "display_data"
    }
   ],
   "source": [
    "par(mfrow=c(2,2)) \n",
    "\n",
    "plot(full.model)"
   ]
  },
  {
   "cell_type": "markdown",
   "metadata": {},
   "source": [
    "- sqrt 변환 처리 수행"
   ]
  },
  {
   "cell_type": "code",
   "execution_count": 24,
   "metadata": {},
   "outputs": [
    {
     "data": {
      "text/plain": [
       "\n",
       "Call:\n",
       "lm(formula = sqrt(data$Visibility) ~ Formatted.Date + Summary + \n",
       "    Precip.Type + Apparent.Temperature..C. + Humidity + Wind.Speed..km.h. + \n",
       "    Wind.Bearing..degrees. + Pressure..millibars., data = data)\n",
       "\n",
       "Residuals:\n",
       "    Min      1Q  Median      3Q     Max \n",
       "-3.4911 -0.2307 -0.0555  0.2962  1.3595 \n",
       "\n",
       "Coefficients:\n",
       "                                             Estimate Std. Error t value\n",
       "(Intercept)                                 3.812e+00  1.048e-01  36.386\n",
       "Formatted.Date                             -4.416e-05  3.508e-06 -12.589\n",
       "SummaryBreezy and Foggy                    -2.131e+00  1.807e-01 -11.791\n",
       "SummaryBreezy and Mostly Cloudy            -1.734e-01  9.458e-02  -1.833\n",
       "SummaryBreezy and Overcast                 -9.373e-02  9.496e-02  -0.987\n",
       "SummaryBreezy and Partly Cloudy            -2.045e-01  9.518e-02  -2.149\n",
       "SummaryClear                               -2.233e-03  9.084e-02  -0.025\n",
       "SummaryDangerously Windy and Partly Cloudy -3.572e-01  4.776e-01  -0.748\n",
       "SummaryDry                                 -3.945e-01  1.407e-01  -2.803\n",
       "SummaryDry and Partly Cloudy               -3.176e-01  1.221e-01  -2.601\n",
       "SummaryFoggy                               -1.908e+00  9.104e-02 -20.958\n",
       "SummaryHumid and Mostly Cloudy             -1.553e-01  1.455e-01  -1.068\n",
       "SummaryHumid and Overcast                  -8.448e-01  4.776e-01  -1.769\n",
       "SummaryHumid and Partly Cloudy             -9.225e-02  1.513e-01  -0.610\n",
       "SummaryMostly Cloudy                       -8.655e-02  9.066e-02  -0.955\n",
       "SummaryOvercast                            -3.232e-01  9.069e-02  -3.563\n",
       "SummaryPartly Cloudy                       -7.050e-02  9.069e-02  -0.777\n",
       "SummaryWindy                               -9.368e-02  2.515e-01  -0.373\n",
       "SummaryWindy and Foggy                     -2.059e+00  3.438e-01  -5.988\n",
       "SummaryWindy and Mostly Cloudy             -2.631e-01  1.365e-01  -1.927\n",
       "SummaryWindy and Overcast                  -4.434e-01  1.236e-01  -3.588\n",
       "SummaryWindy and Partly Cloudy             -2.539e-01  1.134e-01  -2.239\n",
       "Precip.Typesnow                            -2.420e-01  8.280e-03 -29.225\n",
       "Apparent.Temperature..C.                    4.122e-03  3.180e-04  12.963\n",
       "Humidity                                   -1.935e-01  1.571e-02 -12.313\n",
       "Wind.Speed..km.h.                           6.409e-03  3.787e-04  16.923\n",
       "Wind.Bearing..degrees.                      1.354e-04  1.982e-05   6.831\n",
       "Pressure..millibars.                        1.552e-04  1.813e-05   8.558\n",
       "                                           Pr(>|t|)    \n",
       "(Intercept)                                 < 2e-16 ***\n",
       "Formatted.Date                              < 2e-16 ***\n",
       "SummaryBreezy and Foggy                     < 2e-16 ***\n",
       "SummaryBreezy and Mostly Cloudy            0.066831 .  \n",
       "SummaryBreezy and Overcast                 0.323636    \n",
       "SummaryBreezy and Partly Cloudy            0.031665 *  \n",
       "SummaryClear                               0.980391    \n",
       "SummaryDangerously Windy and Partly Cloudy 0.454528    \n",
       "SummaryDry                                 0.005069 ** \n",
       "SummaryDry and Partly Cloudy               0.009296 ** \n",
       "SummaryFoggy                                < 2e-16 ***\n",
       "SummaryHumid and Mostly Cloudy             0.285587    \n",
       "SummaryHumid and Overcast                  0.076932 .  \n",
       "SummaryHumid and Partly Cloudy             0.542015    \n",
       "SummaryMostly Cloudy                       0.339756    \n",
       "SummaryOvercast                            0.000366 ***\n",
       "SummaryPartly Cloudy                       0.436972    \n",
       "SummaryWindy                               0.709474    \n",
       "SummaryWindy and Foggy                     2.14e-09 ***\n",
       "SummaryWindy and Mostly Cloudy             0.053981 .  \n",
       "SummaryWindy and Overcast                  0.000334 ***\n",
       "SummaryWindy and Partly Cloudy             0.025139 *  \n",
       "Precip.Typesnow                             < 2e-16 ***\n",
       "Apparent.Temperature..C.                    < 2e-16 ***\n",
       "Humidity                                    < 2e-16 ***\n",
       "Wind.Speed..km.h.                           < 2e-16 ***\n",
       "Wind.Bearing..degrees.                     8.52e-12 ***\n",
       "Pressure..millibars.                        < 2e-16 ***\n",
       "---\n",
       "Signif. codes:  0 '***' 0.001 '**' 0.01 '*' 0.05 '.' 0.1 ' ' 1\n",
       "\n",
       "Residual standard error: 0.4689 on 49972 degrees of freedom\n",
       "Multiple R-squared:  0.5957,\tAdjusted R-squared:  0.5955 \n",
       "F-statistic:  2727 on 27 and 49972 DF,  p-value: < 2.2e-16\n"
      ]
     },
     "metadata": {},
     "output_type": "display_data"
    }
   ],
   "source": [
    "full.model2<- lm(sqrt(data$Visibility)~., \n",
    "                data = data)\n",
    "\n",
    "step.model2 <- stepAIC(full.model2,\n",
    "                      direction = \"both\", \n",
    "                      trace = FALSE)\n",
    "\n",
    "summary(step.model2)"
   ]
  },
  {
   "cell_type": "code",
   "execution_count": 25,
   "metadata": {},
   "outputs": [
    {
     "name": "stderr",
     "output_type": "stream",
     "text": [
      "Warning message:\n",
      "\"not plotting observations with leverage one:\n",
      "  12182, 36470\"Warning message:\n",
      "\"not plotting observations with leverage one:\n",
      "  12182, 36470\""
     ]
    },
    {
     "data": {
      "image/png": "[encoded data removed]",
      "text/plain": [
       "Plot with title \"\""
      ]
     },
     "metadata": {},
     "output_type": "display_data"
    }
   ],
   "source": [
    "par(mfrow=c(2,2)) \n",
    "\n",
    "plot(full.model2)"
   ]
  },
  {
   "cell_type": "markdown",
   "metadata": {},
   "source": [
    "# feature selection"
   ]
  },
  {
   "cell_type": "markdown",
   "metadata": {},
   "source": [
    "- 모든 변수로 학습"
   ]
  },
  {
   "cell_type": "code",
   "execution_count": 27,
   "metadata": {},
   "outputs": [
    {
     "data": {
      "text/plain": [
       "\n",
       "Call:\n",
       "lm(formula = sqrt(data$Visibility) ~ ., data = data)\n",
       "\n",
       "Residuals:\n",
       "    Min      1Q  Median      3Q     Max \n",
       "-3.4915 -0.2307 -0.0554  0.2963  1.3596 \n",
       "\n",
       "Coefficients:\n",
       "                                             Estimate Std. Error t value\n",
       "(Intercept)                                 3.811e+00  1.049e-01  36.340\n",
       "Formatted.Date                             -4.418e-05  3.509e-06 -12.591\n",
       "SummaryBreezy and Foggy                    -2.131e+00  1.807e-01 -11.792\n",
       "SummaryBreezy and Mostly Cloudy            -1.728e-01  9.462e-02  -1.826\n",
       "SummaryBreezy and Overcast                 -9.356e-02  9.496e-02  -0.985\n",
       "SummaryBreezy and Partly Cloudy            -2.040e-01  9.521e-02  -2.142\n",
       "SummaryClear                               -2.199e-03  9.084e-02  -0.024\n",
       "SummaryDangerously Windy and Partly Cloudy -3.564e-01  4.777e-01  -0.746\n",
       "SummaryDry                                 -3.953e-01  1.408e-01  -2.807\n",
       "SummaryDry and Partly Cloudy               -3.181e-01  1.221e-01  -2.604\n",
       "SummaryFoggy                               -1.908e+00  9.104e-02 -20.955\n",
       "SummaryHumid and Mostly Cloudy             -1.554e-01  1.455e-01  -1.068\n",
       "SummaryHumid and Overcast                  -8.451e-01  4.776e-01  -1.769\n",
       "SummaryHumid and Partly Cloudy             -9.239e-02  1.513e-01  -0.611\n",
       "SummaryMostly Cloudy                       -8.643e-02  9.066e-02  -0.953\n",
       "SummaryOvercast                            -3.231e-01  9.069e-02  -3.563\n",
       "SummaryPartly Cloudy                       -7.045e-02  9.069e-02  -0.777\n",
       "SummaryWindy                               -9.305e-02  2.515e-01  -0.370\n",
       "SummaryWindy and Foggy                     -2.058e+00  3.438e-01  -5.987\n",
       "SummaryWindy and Mostly Cloudy             -2.619e-01  1.366e-01  -1.917\n",
       "SummaryWindy and Overcast                  -4.430e-01  1.236e-01  -3.584\n",
       "SummaryWindy and Partly Cloudy             -2.531e-01  1.134e-01  -2.231\n",
       "Precip.Typesnow                            -2.420e-01  8.280e-03 -29.224\n",
       "Temperature..C.                             4.589e-04  2.208e-03   0.208\n",
       "Apparent.Temperature..C.                    3.722e-03  1.950e-03   1.909\n",
       "Humidity                                   -1.929e-01  1.600e-02 -12.051\n",
       "Wind.Speed..km.h.                           6.367e-03  4.291e-04  14.837\n",
       "Wind.Bearing..degrees.                      1.355e-04  1.983e-05   6.834\n",
       "Pressure..millibars.                        1.552e-04  1.813e-05   8.557\n",
       "                                           Pr(>|t|)    \n",
       "(Intercept)                                 < 2e-16 ***\n",
       "Formatted.Date                              < 2e-16 ***\n",
       "SummaryBreezy and Foggy                     < 2e-16 ***\n",
       "SummaryBreezy and Mostly Cloudy            0.067841 .  \n",
       "SummaryBreezy and Overcast                 0.324541    \n",
       "SummaryBreezy and Partly Cloudy            0.032196 *  \n",
       "SummaryClear                               0.980691    \n",
       "SummaryDangerously Windy and Partly Cloudy 0.455634    \n",
       "SummaryDry                                 0.004995 ** \n",
       "SummaryDry and Partly Cloudy               0.009207 ** \n",
       "SummaryFoggy                                < 2e-16 ***\n",
       "SummaryHumid and Mostly Cloudy             0.285503    \n",
       "SummaryHumid and Overcast                  0.076824 .  \n",
       "SummaryHumid and Partly Cloudy             0.541409    \n",
       "SummaryMostly Cloudy                       0.340408    \n",
       "SummaryOvercast                            0.000367 ***\n",
       "SummaryPartly Cloudy                       0.437288    \n",
       "SummaryWindy                               0.711382    \n",
       "SummaryWindy and Foggy                     2.15e-09 ***\n",
       "SummaryWindy and Mostly Cloudy             0.055245 .  \n",
       "SummaryWindy and Overcast                  0.000339 ***\n",
       "SummaryWindy and Partly Cloudy             0.025665 *  \n",
       "Precip.Typesnow                             < 2e-16 ***\n",
       "Temperature..C.                            0.835392    \n",
       "Apparent.Temperature..C.                   0.056285 .  \n",
       "Humidity                                    < 2e-16 ***\n",
       "Wind.Speed..km.h.                           < 2e-16 ***\n",
       "Wind.Bearing..degrees.                     8.34e-12 ***\n",
       "Pressure..millibars.                        < 2e-16 ***\n",
       "---\n",
       "Signif. codes:  0 '***' 0.001 '**' 0.01 '*' 0.05 '.' 0.1 ' ' 1\n",
       "\n",
       "Residual standard error: 0.4689 on 49971 degrees of freedom\n",
       "Multiple R-squared:  0.5957,\tAdjusted R-squared:  0.5955 \n",
       "F-statistic:  2629 on 28 and 49971 DF,  p-value: < 2.2e-16\n"
      ]
     },
     "metadata": {},
     "output_type": "display_data"
    }
   ],
   "source": [
    "fit <- lm(sqrt(data$Visibility)~., data = data)\n",
    "summary(fit)"
   ]
  },
  {
   "cell_type": "markdown",
   "metadata": {},
   "source": [
    "## forward"
   ]
  },
  {
   "cell_type": "markdown",
   "metadata": {},
   "source": [
    "- 하나씩 변수를 추가하는 방법."
   ]
  },
  {
   "cell_type": "code",
   "execution_count": 28,
   "metadata": {},
   "outputs": [
    {
     "name": "stdout",
     "output_type": "stream",
     "text": [
      "Start:  AIC=-30487.56\n",
      "sqrt(data$Visibility) ~ 1\n",
      "\n",
      "                           Df Sum of Sq   RSS    AIC\n",
      "+ Summary                  20   15336.8 11836 -72000\n",
      "+ Temperature..C.           1    4357.3 22816 -39224\n",
      "+ Apparent.Temperature..C.  1    4029.0 23144 -38510\n",
      "+ Humidity                  1    3817.2 23356 -38054\n",
      "+ Precip.Type               1    3809.6 23364 -38038\n",
      "+ Wind.Speed..km.h.         1     633.8 26539 -31666\n",
      "+ Formatted.Date            1     135.7 27038 -30736\n",
      "+ Wind.Bearing..degrees.    1     111.0 27062 -30690\n",
      "<none>                                  27173 -30488\n",
      "+ Pressure..millibars.      1       0.1 27173 -30486\n",
      "\n",
      "Step:  AIC=-72000.25\n",
      "sqrt(data$Visibility) ~ Summary\n",
      "\n",
      "                           Df Sum of Sq   RSS    AIC\n",
      "+ Precip.Type               1    536.22 11300 -74316\n",
      "+ Temperature..C.           1    466.08 11370 -74007\n",
      "+ Apparent.Temperature..C.  1    434.74 11402 -73869\n",
      "+ Humidity                  1    277.39 11559 -73184\n",
      "+ Wind.Speed..km.h.         1    116.76 11720 -72494\n",
      "+ Formatted.Date            1     37.58 11799 -72157\n",
      "+ Wind.Bearing..degrees.    1     17.27 11819 -72071\n",
      "+ Pressure..millibars.      1      3.91 11832 -72015\n",
      "<none>                                  11836 -72000\n",
      "\n",
      "Step:  AIC=-74316.31\n",
      "sqrt(data$Visibility) ~ Summary + Precip.Type\n",
      "\n",
      "                           Df Sum of Sq   RSS    AIC\n",
      "+ Humidity                  1   179.977 11120 -75117\n",
      "+ Temperature..C.           1   116.792 11183 -74834\n",
      "+ Apparent.Temperature..C.  1    97.458 11203 -74747\n",
      "+ Wind.Speed..km.h.         1    92.981 11207 -74727\n",
      "+ Formatted.Date            1    34.596 11266 -74468\n",
      "+ Wind.Bearing..degrees.    1    13.167 11287 -74373\n",
      "+ Pressure..millibars.      1     9.577 11291 -74357\n",
      "<none>                                  11300 -74316\n",
      "\n",
      "Step:  AIC=-75117.07\n",
      "sqrt(data$Visibility) ~ Summary + Precip.Type + Humidity\n",
      "\n",
      "                           Df Sum of Sq   RSS    AIC\n",
      "+ Wind.Speed..km.h.         1    43.634 11076 -75312\n",
      "+ Formatted.Date            1    25.996 11094 -75232\n",
      "+ Wind.Bearing..degrees.    1    17.564 11103 -75194\n",
      "+ Temperature..C.           1    15.818 11104 -75186\n",
      "+ Apparent.Temperature..C.  1    11.418 11109 -75166\n",
      "+ Pressure..millibars.      1    10.799 11109 -75164\n",
      "<none>                                  11120 -75117\n",
      "\n",
      "Step:  AIC=-75311.65\n",
      "sqrt(data$Visibility) ~ Summary + Precip.Type + Humidity + Wind.Speed..km.h.\n",
      "\n",
      "                           Df Sum of Sq   RSS    AIC\n",
      "+ Apparent.Temperature..C.  1    29.730 11047 -75444\n",
      "+ Temperature..C.           1    28.777 11048 -75440\n",
      "+ Formatted.Date            1    26.966 11050 -75432\n",
      "+ Pressure..millibars.      1    13.113 11063 -75369\n",
      "+ Wind.Bearing..degrees.    1    12.364 11064 -75365\n",
      "<none>                                  11076 -75312\n",
      "\n",
      "Step:  AIC=-75444.03\n",
      "sqrt(data$Visibility) ~ Summary + Precip.Type + Humidity + Wind.Speed..km.h. + \n",
      "    Apparent.Temperature..C.\n",
      "\n",
      "                         Df Sum of Sq   RSS    AIC\n",
      "+ Formatted.Date          1    34.001 11013 -75596\n",
      "+ Pressure..millibars.    1    14.690 11032 -75509\n",
      "+ Wind.Bearing..degrees.  1    10.807 11036 -75491\n",
      "<none>                                11047 -75444\n",
      "+ Temperature..C.         1     0.010 11047 -75442\n",
      "\n",
      "Step:  AIC=-75596.16\n",
      "sqrt(data$Visibility) ~ Summary + Precip.Type + Humidity + Wind.Speed..km.h. + \n",
      "    Apparent.Temperature..C. + Formatted.Date\n",
      "\n",
      "                         Df Sum of Sq   RSS    AIC\n",
      "+ Pressure..millibars.    1   16.0981 10997 -75667\n",
      "+ Wind.Bearing..degrees.  1   10.2542 11003 -75641\n",
      "<none>                                11013 -75596\n",
      "+ Temperature..C.         1    0.0016 11013 -75594\n",
      "\n",
      "Step:  AIC=-75667.3\n",
      "sqrt(data$Visibility) ~ Summary + Precip.Type + Humidity + Wind.Speed..km.h. + \n",
      "    Apparent.Temperature..C. + Formatted.Date + Pressure..millibars.\n",
      "\n",
      "                         Df Sum of Sq   RSS    AIC\n",
      "+ Wind.Bearing..degrees.  1   10.2594 10986 -75712\n",
      "<none>                                10997 -75667\n",
      "+ Temperature..C.         1    0.0004 10997 -75665\n",
      "\n",
      "Step:  AIC=-75711.97\n",
      "sqrt(data$Visibility) ~ Summary + Precip.Type + Humidity + Wind.Speed..km.h. + \n",
      "    Apparent.Temperature..C. + Formatted.Date + Pressure..millibars. + \n",
      "    Wind.Bearing..degrees.\n",
      "\n",
      "                  Df Sum of Sq   RSS    AIC\n",
      "<none>                         10986 -75712\n",
      "+ Temperature..C.  1 0.0094929 10986 -75710\n"
     ]
    },
    {
     "data": {
      "text/plain": [
       "\n",
       "Call:\n",
       "lm(formula = sqrt(data$Visibility) ~ Summary + Precip.Type + \n",
       "    Humidity + Wind.Speed..km.h. + Apparent.Temperature..C. + \n",
       "    Formatted.Date + Pressure..millibars. + Wind.Bearing..degrees., \n",
       "    data = data)\n",
       "\n",
       "Residuals:\n",
       "    Min      1Q  Median      3Q     Max \n",
       "-3.4911 -0.2307 -0.0555  0.2962  1.3595 \n",
       "\n",
       "Coefficients:\n",
       "                                             Estimate Std. Error t value\n",
       "(Intercept)                                 3.812e+00  1.048e-01  36.386\n",
       "SummaryBreezy and Foggy                    -2.131e+00  1.807e-01 -11.791\n",
       "SummaryBreezy and Mostly Cloudy            -1.734e-01  9.458e-02  -1.833\n",
       "SummaryBreezy and Overcast                 -9.373e-02  9.496e-02  -0.987\n",
       "SummaryBreezy and Partly Cloudy            -2.045e-01  9.518e-02  -2.149\n",
       "SummaryClear                               -2.233e-03  9.084e-02  -0.025\n",
       "SummaryDangerously Windy and Partly Cloudy -3.572e-01  4.776e-01  -0.748\n",
       "SummaryDry                                 -3.945e-01  1.407e-01  -2.803\n",
       "SummaryDry and Partly Cloudy               -3.176e-01  1.221e-01  -2.601\n",
       "SummaryFoggy                               -1.908e+00  9.104e-02 -20.958\n",
       "SummaryHumid and Mostly Cloudy             -1.553e-01  1.455e-01  -1.068\n",
       "SummaryHumid and Overcast                  -8.448e-01  4.776e-01  -1.769\n",
       "SummaryHumid and Partly Cloudy             -9.225e-02  1.513e-01  -0.610\n",
       "SummaryMostly Cloudy                       -8.655e-02  9.066e-02  -0.955\n",
       "SummaryOvercast                            -3.232e-01  9.069e-02  -3.563\n",
       "SummaryPartly Cloudy                       -7.050e-02  9.069e-02  -0.777\n",
       "SummaryWindy                               -9.368e-02  2.515e-01  -0.373\n",
       "SummaryWindy and Foggy                     -2.059e+00  3.438e-01  -5.988\n",
       "SummaryWindy and Mostly Cloudy             -2.631e-01  1.365e-01  -1.927\n",
       "SummaryWindy and Overcast                  -4.434e-01  1.236e-01  -3.588\n",
       "SummaryWindy and Partly Cloudy             -2.539e-01  1.134e-01  -2.239\n",
       "Precip.Typesnow                            -2.420e-01  8.280e-03 -29.225\n",
       "Humidity                                   -1.935e-01  1.571e-02 -12.313\n",
       "Wind.Speed..km.h.                           6.409e-03  3.787e-04  16.923\n",
       "Apparent.Temperature..C.                    4.122e-03  3.180e-04  12.963\n",
       "Formatted.Date                             -4.416e-05  3.508e-06 -12.589\n",
       "Pressure..millibars.                        1.552e-04  1.813e-05   8.558\n",
       "Wind.Bearing..degrees.                      1.354e-04  1.982e-05   6.831\n",
       "                                           Pr(>|t|)    \n",
       "(Intercept)                                 < 2e-16 ***\n",
       "SummaryBreezy and Foggy                     < 2e-16 ***\n",
       "SummaryBreezy and Mostly Cloudy            0.066831 .  \n",
       "SummaryBreezy and Overcast                 0.323636    \n",
       "SummaryBreezy and Partly Cloudy            0.031665 *  \n",
       "SummaryClear                               0.980391    \n",
       "SummaryDangerously Windy and Partly Cloudy 0.454528    \n",
       "SummaryDry                                 0.005069 ** \n",
       "SummaryDry and Partly Cloudy               0.009296 ** \n",
       "SummaryFoggy                                < 2e-16 ***\n",
       "SummaryHumid and Mostly Cloudy             0.285587    \n",
       "SummaryHumid and Overcast                  0.076932 .  \n",
       "SummaryHumid and Partly Cloudy             0.542015    \n",
       "SummaryMostly Cloudy                       0.339756    \n",
       "SummaryOvercast                            0.000366 ***\n",
       "SummaryPartly Cloudy                       0.436972    \n",
       "SummaryWindy                               0.709474    \n",
       "SummaryWindy and Foggy                     2.14e-09 ***\n",
       "SummaryWindy and Mostly Cloudy             0.053981 .  \n",
       "SummaryWindy and Overcast                  0.000334 ***\n",
       "SummaryWindy and Partly Cloudy             0.025139 *  \n",
       "Precip.Typesnow                             < 2e-16 ***\n",
       "Humidity                                    < 2e-16 ***\n",
       "Wind.Speed..km.h.                           < 2e-16 ***\n",
       "Apparent.Temperature..C.                    < 2e-16 ***\n",
       "Formatted.Date                              < 2e-16 ***\n",
       "Pressure..millibars.                        < 2e-16 ***\n",
       "Wind.Bearing..degrees.                     8.52e-12 ***\n",
       "---\n",
       "Signif. codes:  0 '***' 0.001 '**' 0.01 '*' 0.05 '.' 0.1 ' ' 1\n",
       "\n",
       "Residual standard error: 0.4689 on 49972 degrees of freedom\n",
       "Multiple R-squared:  0.5957,\tAdjusted R-squared:  0.5955 \n",
       "F-statistic:  2727 on 27 and 49972 DF,  p-value: < 2.2e-16\n"
      ]
     },
     "metadata": {},
     "output_type": "display_data"
    }
   ],
   "source": [
    "fit.con <- lm(sqrt(data$Visibility)~1, data=data)\n",
    "\n",
    "fit.forward <- step(fit.con, scope = list(lower = fit.con, upper = fit), direction = \"forward\")\n",
    "\n",
    "summary(fit.forward)"
   ]
  },
  {
   "cell_type": "markdown",
   "metadata": {},
   "source": [
    "- 전체 변수에서 하나씩 제거해나가는 방법"
   ]
  },
  {
   "cell_type": "code",
   "execution_count": 29,
   "metadata": {},
   "outputs": [
    {
     "name": "stdout",
     "output_type": "stream",
     "text": [
      "Start:  AIC=-75710.02\n",
      "sqrt(data$Visibility) ~ Formatted.Date + Summary + Precip.Type + \n",
      "    Temperature..C. + Apparent.Temperature..C. + Humidity + Wind.Speed..km.h. + \n",
      "    Wind.Bearing..degrees. + Pressure..millibars.\n",
      "\n",
      "                           Df Sum of Sq   RSS    AIC\n",
      "- Temperature..C.           1       0.0 10986 -75712\n",
      "<none>                                  10986 -75710\n",
      "- Apparent.Temperature..C.  1       0.8 10987 -75708\n",
      "- Wind.Bearing..degrees.    1      10.3 10997 -75665\n",
      "- Pressure..millibars.      1      16.1 11002 -75639\n",
      "- Humidity                  1      31.9 11018 -75567\n",
      "- Formatted.Date            1      34.9 11021 -75554\n",
      "- Wind.Speed..km.h.         1      48.4 11035 -75492\n",
      "- Precip.Type               1     187.8 11174 -74865\n",
      "- Summary                  20    9757.8 20744 -43970\n",
      "\n",
      "Step:  AIC=-75711.97\n",
      "sqrt(data$Visibility) ~ Formatted.Date + Summary + Precip.Type + \n",
      "    Apparent.Temperature..C. + Humidity + Wind.Speed..km.h. + \n",
      "    Wind.Bearing..degrees. + Pressure..millibars.\n",
      "\n",
      "                           Df Sum of Sq   RSS    AIC\n",
      "<none>                                  10986 -75712\n",
      "- Wind.Bearing..degrees.    1      10.3 10997 -75667\n",
      "- Pressure..millibars.      1      16.1 11003 -75641\n",
      "- Humidity                  1      33.3 11020 -75563\n",
      "- Formatted.Date            1      34.8 11021 -75556\n",
      "- Apparent.Temperature..C.  1      36.9 11023 -75546\n",
      "- Wind.Speed..km.h.         1      63.0 11049 -75428\n",
      "- Precip.Type               1     187.8 11174 -74867\n",
      "- Summary                  20    9795.0 20782 -43882\n"
     ]
    },
    {
     "data": {
      "text/plain": [
       "\n",
       "Call:\n",
       "lm(formula = sqrt(data$Visibility) ~ Formatted.Date + Summary + \n",
       "    Precip.Type + Apparent.Temperature..C. + Humidity + Wind.Speed..km.h. + \n",
       "    Wind.Bearing..degrees. + Pressure..millibars., data = data)\n",
       "\n",
       "Residuals:\n",
       "    Min      1Q  Median      3Q     Max \n",
       "-3.4911 -0.2307 -0.0555  0.2962  1.3595 \n",
       "\n",
       "Coefficients:\n",
       "                                             Estimate Std. Error t value\n",
       "(Intercept)                                 3.812e+00  1.048e-01  36.386\n",
       "Formatted.Date                             -4.416e-05  3.508e-06 -12.589\n",
       "SummaryBreezy and Foggy                    -2.131e+00  1.807e-01 -11.791\n",
       "SummaryBreezy and Mostly Cloudy            -1.734e-01  9.458e-02  -1.833\n",
       "SummaryBreezy and Overcast                 -9.373e-02  9.496e-02  -0.987\n",
       "SummaryBreezy and Partly Cloudy            -2.045e-01  9.518e-02  -2.149\n",
       "SummaryClear                               -2.233e-03  9.084e-02  -0.025\n",
       "SummaryDangerously Windy and Partly Cloudy -3.572e-01  4.776e-01  -0.748\n",
       "SummaryDry                                 -3.945e-01  1.407e-01  -2.803\n",
       "SummaryDry and Partly Cloudy               -3.176e-01  1.221e-01  -2.601\n",
       "SummaryFoggy                               -1.908e+00  9.104e-02 -20.958\n",
       "SummaryHumid and Mostly Cloudy             -1.553e-01  1.455e-01  -1.068\n",
       "SummaryHumid and Overcast                  -8.448e-01  4.776e-01  -1.769\n",
       "SummaryHumid and Partly Cloudy             -9.225e-02  1.513e-01  -0.610\n",
       "SummaryMostly Cloudy                       -8.655e-02  9.066e-02  -0.955\n",
       "SummaryOvercast                            -3.232e-01  9.069e-02  -3.563\n",
       "SummaryPartly Cloudy                       -7.050e-02  9.069e-02  -0.777\n",
       "SummaryWindy                               -9.368e-02  2.515e-01  -0.373\n",
       "SummaryWindy and Foggy                     -2.059e+00  3.438e-01  -5.988\n",
       "SummaryWindy and Mostly Cloudy             -2.631e-01  1.365e-01  -1.927\n",
       "SummaryWindy and Overcast                  -4.434e-01  1.236e-01  -3.588\n",
       "SummaryWindy and Partly Cloudy             -2.539e-01  1.134e-01  -2.239\n",
       "Precip.Typesnow                            -2.420e-01  8.280e-03 -29.225\n",
       "Apparent.Temperature..C.                    4.122e-03  3.180e-04  12.963\n",
       "Humidity                                   -1.935e-01  1.571e-02 -12.313\n",
       "Wind.Speed..km.h.                           6.409e-03  3.787e-04  16.923\n",
       "Wind.Bearing..degrees.                      1.354e-04  1.982e-05   6.831\n",
       "Pressure..millibars.                        1.552e-04  1.813e-05   8.558\n",
       "                                           Pr(>|t|)    \n",
       "(Intercept)                                 < 2e-16 ***\n",
       "Formatted.Date                              < 2e-16 ***\n",
       "SummaryBreezy and Foggy                     < 2e-16 ***\n",
       "SummaryBreezy and Mostly Cloudy            0.066831 .  \n",
       "SummaryBreezy and Overcast                 0.323636    \n",
       "SummaryBreezy and Partly Cloudy            0.031665 *  \n",
       "SummaryClear                               0.980391    \n",
       "SummaryDangerously Windy and Partly Cloudy 0.454528    \n",
       "SummaryDry                                 0.005069 ** \n",
       "SummaryDry and Partly Cloudy               0.009296 ** \n",
       "SummaryFoggy                                < 2e-16 ***\n",
       "SummaryHumid and Mostly Cloudy             0.285587    \n",
       "SummaryHumid and Overcast                  0.076932 .  \n",
       "SummaryHumid and Partly Cloudy             0.542015    \n",
       "SummaryMostly Cloudy                       0.339756    \n",
       "SummaryOvercast                            0.000366 ***\n",
       "SummaryPartly Cloudy                       0.436972    \n",
       "SummaryWindy                               0.709474    \n",
       "SummaryWindy and Foggy                     2.14e-09 ***\n",
       "SummaryWindy and Mostly Cloudy             0.053981 .  \n",
       "SummaryWindy and Overcast                  0.000334 ***\n",
       "SummaryWindy and Partly Cloudy             0.025139 *  \n",
       "Precip.Typesnow                             < 2e-16 ***\n",
       "Apparent.Temperature..C.                    < 2e-16 ***\n",
       "Humidity                                    < 2e-16 ***\n",
       "Wind.Speed..km.h.                           < 2e-16 ***\n",
       "Wind.Bearing..degrees.                     8.52e-12 ***\n",
       "Pressure..millibars.                        < 2e-16 ***\n",
       "---\n",
       "Signif. codes:  0 '***' 0.001 '**' 0.01 '*' 0.05 '.' 0.1 ' ' 1\n",
       "\n",
       "Residual standard error: 0.4689 on 49972 degrees of freedom\n",
       "Multiple R-squared:  0.5957,\tAdjusted R-squared:  0.5955 \n",
       "F-statistic:  2727 on 27 and 49972 DF,  p-value: < 2.2e-16\n"
      ]
     },
     "metadata": {},
     "output_type": "display_data"
    }
   ],
   "source": [
    "fit.backward <- step(fit, scope = list(lower = fit.con, upper = fit), direction = \"backward\")\n",
    "summary(fit.backward)"
   ]
  },
  {
   "cell_type": "code",
   "execution_count": 30,
   "metadata": {},
   "outputs": [
    {
     "name": "stdout",
     "output_type": "stream",
     "text": [
      "Start:  AIC=-30487.56\n",
      "sqrt(data$Visibility) ~ 1\n",
      "\n",
      "                           Df Sum of Sq   RSS    AIC\n",
      "+ Summary                  20   15336.8 11836 -72000\n",
      "+ Temperature..C.           1    4357.3 22816 -39224\n",
      "+ Apparent.Temperature..C.  1    4029.0 23144 -38510\n",
      "+ Humidity                  1    3817.2 23356 -38054\n",
      "+ Precip.Type               1    3809.6 23364 -38038\n",
      "+ Wind.Speed..km.h.         1     633.8 26539 -31666\n",
      "+ Formatted.Date            1     135.7 27038 -30736\n",
      "+ Wind.Bearing..degrees.    1     111.0 27062 -30690\n",
      "<none>                                  27173 -30488\n",
      "+ Pressure..millibars.      1       0.1 27173 -30486\n",
      "\n",
      "Step:  AIC=-72000.25\n",
      "sqrt(data$Visibility) ~ Summary\n",
      "\n",
      "                           Df Sum of Sq   RSS    AIC\n",
      "+ Precip.Type               1     536.2 11300 -74316\n",
      "+ Temperature..C.           1     466.1 11370 -74007\n",
      "+ Apparent.Temperature..C.  1     434.7 11402 -73869\n",
      "+ Humidity                  1     277.4 11559 -73184\n",
      "+ Wind.Speed..km.h.         1     116.8 11720 -72494\n",
      "+ Formatted.Date            1      37.6 11799 -72157\n",
      "+ Wind.Bearing..degrees.    1      17.3 11819 -72071\n",
      "+ Pressure..millibars.      1       3.9 11832 -72015\n",
      "<none>                                  11836 -72000\n",
      "- Summary                  20   15336.8 27173 -30488\n",
      "\n",
      "Step:  AIC=-74316.31\n",
      "sqrt(data$Visibility) ~ Summary + Precip.Type\n",
      "\n",
      "                           Df Sum of Sq   RSS    AIC\n",
      "+ Humidity                  1     180.0 11120 -75117\n",
      "+ Temperature..C.           1     116.8 11183 -74834\n",
      "+ Apparent.Temperature..C.  1      97.5 11203 -74747\n",
      "+ Wind.Speed..km.h.         1      93.0 11207 -74727\n",
      "+ Formatted.Date            1      34.6 11266 -74468\n",
      "+ Wind.Bearing..degrees.    1      13.2 11287 -74373\n",
      "+ Pressure..millibars.      1       9.6 11291 -74357\n",
      "<none>                                  11300 -74316\n",
      "- Precip.Type               1     536.2 11836 -72000\n",
      "- Summary                  20   12063.4 23364 -38038\n",
      "\n",
      "Step:  AIC=-75117.07\n",
      "sqrt(data$Visibility) ~ Summary + Precip.Type + Humidity\n",
      "\n",
      "                           Df Sum of Sq   RSS    AIC\n",
      "+ Wind.Speed..km.h.         1      43.6 11076 -75312\n",
      "+ Formatted.Date            1      26.0 11094 -75232\n",
      "+ Wind.Bearing..degrees.    1      17.6 11103 -75194\n",
      "+ Temperature..C.           1      15.8 11104 -75186\n",
      "+ Apparent.Temperature..C.  1      11.4 11109 -75166\n",
      "+ Pressure..millibars.      1      10.8 11109 -75164\n",
      "<none>                                  11120 -75117\n",
      "- Humidity                  1     180.0 11300 -74316\n",
      "- Precip.Type               1     438.8 11559 -73184\n",
      "- Summary                  20   10022.4 21143 -43031\n",
      "\n",
      "Step:  AIC=-75311.65\n",
      "sqrt(data$Visibility) ~ Summary + Precip.Type + Humidity + Wind.Speed..km.h.\n",
      "\n",
      "                           Df Sum of Sq   RSS    AIC\n",
      "+ Apparent.Temperature..C.  1      29.7 11047 -75444\n",
      "+ Temperature..C.           1      28.8 11048 -75440\n",
      "+ Formatted.Date            1      27.0 11050 -75432\n",
      "+ Pressure..millibars.      1      13.1 11063 -75369\n",
      "+ Wind.Bearing..degrees.    1      12.4 11064 -75365\n",
      "<none>                                  11076 -75312\n",
      "- Wind.Speed..km.h.         1      43.6 11120 -75117\n",
      "- Humidity                  1     130.6 11207 -74727\n",
      "- Precip.Type               1     434.4 11511 -73390\n",
      "- Summary                  20    9972.0 21049 -43251\n",
      "\n",
      "Step:  AIC=-75444.03\n",
      "sqrt(data$Visibility) ~ Summary + Precip.Type + Humidity + Wind.Speed..km.h. + \n",
      "    Apparent.Temperature..C.\n",
      "\n",
      "                           Df Sum of Sq   RSS    AIC\n",
      "+ Formatted.Date            1      34.0 11013 -75596\n",
      "+ Pressure..millibars.      1      14.7 11032 -75509\n",
      "+ Wind.Bearing..degrees.    1      10.8 11036 -75491\n",
      "<none>                                  11047 -75444\n",
      "+ Temperature..C.           1       0.0 11047 -75442\n",
      "- Apparent.Temperature..C.  1      29.7 11076 -75312\n",
      "- Humidity                  1      40.1 11087 -75265\n",
      "- Wind.Speed..km.h.         1      61.9 11109 -75166\n",
      "- Precip.Type               1     197.4 11244 -74560\n",
      "- Summary                  20    9873.3 20920 -43556\n",
      "\n",
      "Step:  AIC=-75596.16\n",
      "sqrt(data$Visibility) ~ Summary + Precip.Type + Humidity + Wind.Speed..km.h. + \n",
      "    Apparent.Temperature..C. + Formatted.Date\n",
      "\n",
      "                           Df Sum of Sq   RSS    AIC\n",
      "+ Pressure..millibars.      1      16.1 10997 -75667\n",
      "+ Wind.Bearing..degrees.    1      10.3 11003 -75641\n",
      "<none>                                  11013 -75596\n",
      "+ Temperature..C.           1       0.0 11013 -75594\n",
      "- Humidity                  1      31.7 11044 -75454\n",
      "- Formatted.Date            1      34.0 11047 -75444\n",
      "- Apparent.Temperature..C.  1      36.8 11050 -75432\n",
      "- Wind.Speed..km.h.         1      66.0 11079 -75299\n",
      "- Precip.Type               1     186.1 11199 -74760\n",
      "- Summary                  20    9828.5 20841 -43742\n",
      "\n",
      "Step:  AIC=-75667.3\n",
      "sqrt(data$Visibility) ~ Summary + Precip.Type + Humidity + Wind.Speed..km.h. + \n",
      "    Apparent.Temperature..C. + Formatted.Date + Pressure..millibars.\n",
      "\n",
      "                           Df Sum of Sq   RSS    AIC\n",
      "+ Wind.Bearing..degrees.    1      10.3 10986 -75712\n",
      "<none>                                  10997 -75667\n",
      "+ Temperature..C.           1       0.0 10997 -75665\n",
      "- Pressure..millibars.      1      16.1 11013 -75596\n",
      "- Humidity                  1      30.6 11027 -75530\n",
      "- Formatted.Date            1      35.4 11032 -75509\n",
      "- Apparent.Temperature..C.  1      38.7 11036 -75493\n",
      "- Wind.Speed..km.h.         1      69.7 11066 -75353\n",
      "- Precip.Type               1     187.5 11184 -74824\n",
      "- Summary                  20    9832.8 20830 -43769\n",
      "\n",
      "Step:  AIC=-75711.97\n",
      "sqrt(data$Visibility) ~ Summary + Precip.Type + Humidity + Wind.Speed..km.h. + \n",
      "    Apparent.Temperature..C. + Formatted.Date + Pressure..millibars. + \n",
      "    Wind.Bearing..degrees.\n",
      "\n",
      "                           Df Sum of Sq   RSS    AIC\n",
      "<none>                                  10986 -75712\n",
      "+ Temperature..C.           1       0.0 10986 -75710\n",
      "- Wind.Bearing..degrees.    1      10.3 10997 -75667\n",
      "- Pressure..millibars.      1      16.1 11003 -75641\n",
      "- Humidity                  1      33.3 11020 -75563\n",
      "- Formatted.Date            1      34.8 11021 -75556\n",
      "- Apparent.Temperature..C.  1      36.9 11023 -75546\n",
      "- Wind.Speed..km.h.         1      63.0 11049 -75428\n",
      "- Precip.Type               1     187.8 11174 -74867\n",
      "- Summary                  20    9795.0 20782 -43882\n"
     ]
    },
    {
     "data": {
      "text/plain": [
       "\n",
       "Call:\n",
       "lm(formula = sqrt(data$Visibility) ~ Summary + Precip.Type + \n",
       "    Humidity + Wind.Speed..km.h. + Apparent.Temperature..C. + \n",
       "    Formatted.Date + Pressure..millibars. + Wind.Bearing..degrees., \n",
       "    data = data)\n",
       "\n",
       "Residuals:\n",
       "    Min      1Q  Median      3Q     Max \n",
       "-3.4911 -0.2307 -0.0555  0.2962  1.3595 \n",
       "\n",
       "Coefficients:\n",
       "                                             Estimate Std. Error t value\n",
       "(Intercept)                                 3.812e+00  1.048e-01  36.386\n",
       "SummaryBreezy and Foggy                    -2.131e+00  1.807e-01 -11.791\n",
       "SummaryBreezy and Mostly Cloudy            -1.734e-01  9.458e-02  -1.833\n",
       "SummaryBreezy and Overcast                 -9.373e-02  9.496e-02  -0.987\n",
       "SummaryBreezy and Partly Cloudy            -2.045e-01  9.518e-02  -2.149\n",
       "SummaryClear                               -2.233e-03  9.084e-02  -0.025\n",
       "SummaryDangerously Windy and Partly Cloudy -3.572e-01  4.776e-01  -0.748\n",
       "SummaryDry                                 -3.945e-01  1.407e-01  -2.803\n",
       "SummaryDry and Partly Cloudy               -3.176e-01  1.221e-01  -2.601\n",
       "SummaryFoggy                               -1.908e+00  9.104e-02 -20.958\n",
       "SummaryHumid and Mostly Cloudy             -1.553e-01  1.455e-01  -1.068\n",
       "SummaryHumid and Overcast                  -8.448e-01  4.776e-01  -1.769\n",
       "SummaryHumid and Partly Cloudy             -9.225e-02  1.513e-01  -0.610\n",
       "SummaryMostly Cloudy                       -8.655e-02  9.066e-02  -0.955\n",
       "SummaryOvercast                            -3.232e-01  9.069e-02  -3.563\n",
       "SummaryPartly Cloudy                       -7.050e-02  9.069e-02  -0.777\n",
       "SummaryWindy                               -9.368e-02  2.515e-01  -0.373\n",
       "SummaryWindy and Foggy                     -2.059e+00  3.438e-01  -5.988\n",
       "SummaryWindy and Mostly Cloudy             -2.631e-01  1.365e-01  -1.927\n",
       "SummaryWindy and Overcast                  -4.434e-01  1.236e-01  -3.588\n",
       "SummaryWindy and Partly Cloudy             -2.539e-01  1.134e-01  -2.239\n",
       "Precip.Typesnow                            -2.420e-01  8.280e-03 -29.225\n",
       "Humidity                                   -1.935e-01  1.571e-02 -12.313\n",
       "Wind.Speed..km.h.                           6.409e-03  3.787e-04  16.923\n",
       "Apparent.Temperature..C.                    4.122e-03  3.180e-04  12.963\n",
       "Formatted.Date                             -4.416e-05  3.508e-06 -12.589\n",
       "Pressure..millibars.                        1.552e-04  1.813e-05   8.558\n",
       "Wind.Bearing..degrees.                      1.354e-04  1.982e-05   6.831\n",
       "                                           Pr(>|t|)    \n",
       "(Intercept)                                 < 2e-16 ***\n",
       "SummaryBreezy and Foggy                     < 2e-16 ***\n",
       "SummaryBreezy and Mostly Cloudy            0.066831 .  \n",
       "SummaryBreezy and Overcast                 0.323636    \n",
       "SummaryBreezy and Partly Cloudy            0.031665 *  \n",
       "SummaryClear                               0.980391    \n",
       "SummaryDangerously Windy and Partly Cloudy 0.454528    \n",
       "SummaryDry                                 0.005069 ** \n",
       "SummaryDry and Partly Cloudy               0.009296 ** \n",
       "SummaryFoggy                                < 2e-16 ***\n",
       "SummaryHumid and Mostly Cloudy             0.285587    \n",
       "SummaryHumid and Overcast                  0.076932 .  \n",
       "SummaryHumid and Partly Cloudy             0.542015    \n",
       "SummaryMostly Cloudy                       0.339756    \n",
       "SummaryOvercast                            0.000366 ***\n",
       "SummaryPartly Cloudy                       0.436972    \n",
       "SummaryWindy                               0.709474    \n",
       "SummaryWindy and Foggy                     2.14e-09 ***\n",
       "SummaryWindy and Mostly Cloudy             0.053981 .  \n",
       "SummaryWindy and Overcast                  0.000334 ***\n",
       "SummaryWindy and Partly Cloudy             0.025139 *  \n",
       "Precip.Typesnow                             < 2e-16 ***\n",
       "Humidity                                    < 2e-16 ***\n",
       "Wind.Speed..km.h.                           < 2e-16 ***\n",
       "Apparent.Temperature..C.                    < 2e-16 ***\n",
       "Formatted.Date                              < 2e-16 ***\n",
       "Pressure..millibars.                        < 2e-16 ***\n",
       "Wind.Bearing..degrees.                     8.52e-12 ***\n",
       "---\n",
       "Signif. codes:  0 '***' 0.001 '**' 0.01 '*' 0.05 '.' 0.1 ' ' 1\n",
       "\n",
       "Residual standard error: 0.4689 on 49972 degrees of freedom\n",
       "Multiple R-squared:  0.5957,\tAdjusted R-squared:  0.5955 \n",
       "F-statistic:  2727 on 27 and 49972 DF,  p-value: < 2.2e-16\n"
      ]
     },
     "metadata": {},
     "output_type": "display_data"
    }
   ],
   "source": [
    "fit.both <- step(fit.con, scope = list(lower = fit.con, upper = fit), direction = \"both\")\n",
    "summary(fit.both)"
   ]
  },
  {
   "cell_type": "markdown",
   "metadata": {},
   "source": [
    "# Multicollinearity(다중공선성)"
   ]
  },
  {
   "cell_type": "markdown",
   "metadata": {},
   "source": [
    "- GVIF^(1/(2*Df))가 2를 넘으면, 다중공선성 문제가 있다고 본다.\n",
    "- Apparent.Temperature..C. & Temperature..C.를 제거한다."
   ]
  },
  {
   "cell_type": "code",
   "execution_count": 31,
   "metadata": {},
   "outputs": [
    {
     "data": {
      "text/html": [
       "<table>\n",
       "<thead><tr><th></th><th scope=col>GVIF</th><th scope=col>Df</th><th scope=col>GVIF^(1/(2*Df))</th></tr></thead>\n",
       "<tbody>\n",
       "\t<tr><th scope=row>Formatted.Date</th><td>  1.025875</td><td> 1        </td><td> 1.012855 </td></tr>\n",
       "\t<tr><th scope=row>Summary</th><td>  2.034432</td><td>20        </td><td> 1.017914 </td></tr>\n",
       "\t<tr><th scope=row>Precip.Type</th><td>  1.710209</td><td> 1        </td><td> 1.307749 </td></tr>\n",
       "\t<tr><th scope=row>Temperature..C.</th><td>103.532289</td><td> 1        </td><td>10.175082 </td></tr>\n",
       "\t<tr><th scope=row>Apparent.Temperature..C.</th><td>101.417232</td><td> 1        </td><td>10.070612 </td></tr>\n",
       "\t<tr><th scope=row>Humidity</th><td>  2.169043</td><td> 1        </td><td> 1.472767 </td></tr>\n",
       "\t<tr><th scope=row>Wind.Speed..km.h.</th><td>  2.053385</td><td> 1        </td><td> 1.432964 </td></tr>\n",
       "\t<tr><th scope=row>Wind.Bearing..degrees.</th><td>  1.026115</td><td> 1        </td><td> 1.012973 </td></tr>\n",
       "\t<tr><th scope=row>Pressure..millibars.</th><td>  1.026477</td><td> 1        </td><td> 1.013152 </td></tr>\n",
       "</tbody>\n",
       "</table>\n"
      ],
      "text/latex": [
       "\\begin{tabular}{r|lll}\n",
       "  & GVIF & Df & GVIF\\textasciicircum{}(1/(2*Df))\\\\\n",
       "\\hline\n",
       "\tFormatted.Date &   1.025875 &  1         &  1.012855 \\\\\n",
       "\tSummary &   2.034432 & 20         &  1.017914 \\\\\n",
       "\tPrecip.Type &   1.710209 &  1         &  1.307749 \\\\\n",
       "\tTemperature..C. & 103.532289 &  1         & 10.175082 \\\\\n",
       "\tApparent.Temperature..C. & 101.417232 &  1         & 10.070612 \\\\\n",
       "\tHumidity &   2.169043 &  1         &  1.472767 \\\\\n",
       "\tWind.Speed..km.h. &   2.053385 &  1         &  1.432964 \\\\\n",
       "\tWind.Bearing..degrees. &   1.026115 &  1         &  1.012973 \\\\\n",
       "\tPressure..millibars. &   1.026477 &  1         &  1.013152 \\\\\n",
       "\\end{tabular}\n"
      ],
      "text/markdown": [
       "\n",
       "| <!--/--> | GVIF | Df | GVIF^(1/(2*Df)) |\n",
       "|---|---|---|---|\n",
       "| Formatted.Date |   1.025875 |  1         |  1.012855  |\n",
       "| Summary |   2.034432 | 20         |  1.017914  |\n",
       "| Precip.Type |   1.710209 |  1         |  1.307749  |\n",
       "| Temperature..C. | 103.532289 |  1         | 10.175082  |\n",
       "| Apparent.Temperature..C. | 101.417232 |  1         | 10.070612  |\n",
       "| Humidity |   2.169043 |  1         |  1.472767  |\n",
       "| Wind.Speed..km.h. |   2.053385 |  1         |  1.432964  |\n",
       "| Wind.Bearing..degrees. |   1.026115 |  1         |  1.012973  |\n",
       "| Pressure..millibars. |   1.026477 |  1         |  1.013152  |\n",
       "\n"
      ],
      "text/plain": [
       "                         GVIF       Df GVIF^(1/(2*Df))\n",
       "Formatted.Date             1.025875  1  1.012855      \n",
       "Summary                    2.034432 20  1.017914      \n",
       "Precip.Type                1.710209  1  1.307749      \n",
       "Temperature..C.          103.532289  1 10.175082      \n",
       "Apparent.Temperature..C. 101.417232  1 10.070612      \n",
       "Humidity                   2.169043  1  1.472767      \n",
       "Wind.Speed..km.h.          2.053385  1  1.432964      \n",
       "Wind.Bearing..degrees.     1.026115  1  1.012973      \n",
       "Pressure..millibars.       1.026477  1  1.013152      "
      ]
     },
     "metadata": {},
     "output_type": "display_data"
    }
   ],
   "source": [
    "vif(fit)"
   ]
  },
  {
   "cell_type": "code",
   "execution_count": 32,
   "metadata": {},
   "outputs": [],
   "source": [
    "df <- subset(data, select = -cbind(Temperature..C., Apparent.Temperature..C.))"
   ]
  },
  {
   "cell_type": "code",
   "execution_count": 33,
   "metadata": {},
   "outputs": [
    {
     "name": "stdout",
     "output_type": "stream",
     "text": [
      "'data.frame':\t50000 obs. of  8 variables:\n",
      " $ Formatted.Date        : Date, format: \"2006-04-01\" \"2006-04-01\" ...\n",
      " $ Summary               : Factor w/ 21 levels \"Breezy\",\"Breezy and Foggy\",..: 16 16 14 16 14 16 16 16 16 16 ...\n",
      " $ Precip.Type           : Factor w/ 2 levels \"rain\",\"snow\": 1 1 1 1 1 1 1 1 1 1 ...\n",
      " $ Humidity              : num  0.89 0.86 0.89 0.83 0.83 0.85 0.95 0.89 0.82 0.72 ...\n",
      " $ Wind.Speed..km.h.     : num  14.12 14.26 3.93 14.1 11.04 ...\n",
      " $ Wind.Bearing..degrees.: int  251 259 204 269 259 258 259 260 259 279 ...\n",
      " $ Pressure..millibars.  : num  1015 1016 1016 1016 1017 ...\n",
      " $ Visibility            : num  15.8 15.8 15 15.8 15.8 ...\n"
     ]
    }
   ],
   "source": [
    "str(df)"
   ]
  },
  {
   "cell_type": "code",
   "execution_count": 34,
   "metadata": {},
   "outputs": [
    {
     "data": {
      "text/plain": [
       "\n",
       "Call:\n",
       "lm(formula = sqrt(df$Visibility) ~ ., data = df)\n",
       "\n",
       "Residuals:\n",
       "    Min      1Q  Median      3Q     Max \n",
       "-3.4541 -0.2256 -0.0553  0.2969  1.3655 \n",
       "\n",
       "Coefficients:\n",
       "                                             Estimate Std. Error t value\n",
       "(Intercept)                                 3.894e+00  1.047e-01  37.175\n",
       "Formatted.Date                             -3.906e-05  3.491e-06 -11.188\n",
       "SummaryBreezy and Foggy                    -2.092e+00  1.810e-01 -11.557\n",
       "SummaryBreezy and Mostly Cloudy            -1.605e-01  9.473e-02  -1.694\n",
       "SummaryBreezy and Overcast                 -8.570e-02  9.512e-02  -0.901\n",
       "SummaryBreezy and Partly Cloudy            -2.004e-01  9.533e-02  -2.102\n",
       "SummaryClear                                3.429e-03  9.099e-02   0.038\n",
       "SummaryDangerously Windy and Partly Cloudy -3.400e-01  4.784e-01  -0.711\n",
       "SummaryDry                                 -3.583e-01  1.409e-01  -2.542\n",
       "SummaryDry and Partly Cloudy               -3.083e-01  1.223e-01  -2.521\n",
       "SummaryFoggy                               -1.908e+00  9.119e-02 -20.922\n",
       "SummaryHumid and Mostly Cloudy             -9.731e-02  1.456e-01  -0.668\n",
       "SummaryHumid and Overcast                  -7.771e-01  4.784e-01  -1.625\n",
       "SummaryHumid and Partly Cloudy             -3.856e-02  1.515e-01  -0.255\n",
       "SummaryMostly Cloudy                       -8.047e-02  9.081e-02  -0.886\n",
       "SummaryOvercast                            -3.236e-01  9.084e-02  -3.562\n",
       "SummaryPartly Cloudy                       -6.002e-02  9.084e-02  -0.661\n",
       "SummaryWindy                               -1.115e-01  2.519e-01  -0.443\n",
       "SummaryWindy and Foggy                     -1.986e+00  3.443e-01  -5.769\n",
       "SummaryWindy and Mostly Cloudy             -2.428e-01  1.367e-01  -1.775\n",
       "SummaryWindy and Overcast                  -4.307e-01  1.238e-01  -3.480\n",
       "SummaryWindy and Partly Cloudy             -2.477e-01  1.135e-01  -2.182\n",
       "Precip.Typesnow                            -3.031e-01  6.819e-03 -44.451\n",
       "Humidity                                   -3.103e-01  1.290e-02 -24.060\n",
       "Wind.Speed..km.h.                           4.994e-03  3.632e-04  13.748\n",
       "Wind.Bearing..degrees.                      1.467e-04  1.984e-05   7.394\n",
       "Pressure..millibars.                        1.455e-04  1.815e-05   8.015\n",
       "                                           Pr(>|t|)    \n",
       "(Intercept)                                 < 2e-16 ***\n",
       "Formatted.Date                              < 2e-16 ***\n",
       "SummaryBreezy and Foggy                     < 2e-16 ***\n",
       "SummaryBreezy and Mostly Cloudy            0.090244 .  \n",
       "SummaryBreezy and Overcast                 0.367571    \n",
       "SummaryBreezy and Partly Cloudy            0.035569 *  \n",
       "SummaryClear                               0.969942    \n",
       "SummaryDangerously Windy and Partly Cloudy 0.477353    \n",
       "SummaryDry                                 0.011019 *  \n",
       "SummaryDry and Partly Cloudy               0.011709 *  \n",
       "SummaryFoggy                                < 2e-16 ***\n",
       "SummaryHumid and Mostly Cloudy             0.503998    \n",
       "SummaryHumid and Overcast                  0.104275    \n",
       "SummaryHumid and Partly Cloudy             0.799082    \n",
       "SummaryMostly Cloudy                       0.375562    \n",
       "SummaryOvercast                            0.000368 ***\n",
       "SummaryPartly Cloudy                       0.508759    \n",
       "SummaryWindy                               0.658027    \n",
       "SummaryWindy and Foggy                     8.01e-09 ***\n",
       "SummaryWindy and Mostly Cloudy             0.075854 .  \n",
       "SummaryWindy and Overcast                  0.000502 ***\n",
       "SummaryWindy and Partly Cloudy             0.029144 *  \n",
       "Precip.Typesnow                             < 2e-16 ***\n",
       "Humidity                                    < 2e-16 ***\n",
       "Wind.Speed..km.h.                           < 2e-16 ***\n",
       "Wind.Bearing..degrees.                     1.45e-13 ***\n",
       "Pressure..millibars.                       1.12e-15 ***\n",
       "---\n",
       "Signif. codes:  0 '***' 0.001 '**' 0.01 '*' 0.05 '.' 0.1 ' ' 1\n",
       "\n",
       "Residual standard error: 0.4697 on 49973 degrees of freedom\n",
       "Multiple R-squared:  0.5943,\tAdjusted R-squared:  0.5941 \n",
       "F-statistic:  2816 on 26 and 49973 DF,  p-value: < 2.2e-16\n"
      ]
     },
     "metadata": {},
     "output_type": "display_data"
    }
   ],
   "source": [
    "fit1 <- lm(sqrt(df$Visibility)~., data = df)\n",
    "summary(fit1)"
   ]
  },
  {
   "cell_type": "code",
   "execution_count": 35,
   "metadata": {},
   "outputs": [
    {
     "data": {
      "text/html": [
       "<table>\n",
       "<thead><tr><th></th><th scope=col>GVIF</th><th scope=col>Df</th><th scope=col>GVIF^(1/(2*Df))</th></tr></thead>\n",
       "<tbody>\n",
       "\t<tr><th scope=row>Formatted.Date</th><td>1.012416</td><td> 1      </td><td>1.006189</td></tr>\n",
       "\t<tr><th scope=row>Summary</th><td>1.938710</td><td>20      </td><td>1.016688</td></tr>\n",
       "\t<tr><th scope=row>Precip.Type</th><td>1.155908</td><td> 1      </td><td>1.075131</td></tr>\n",
       "\t<tr><th scope=row>Humidity</th><td>1.403942</td><td> 1      </td><td>1.184880</td></tr>\n",
       "\t<tr><th scope=row>Wind.Speed..km.h.</th><td>1.466257</td><td> 1      </td><td>1.210891</td></tr>\n",
       "\t<tr><th scope=row>Wind.Bearing..degrees.</th><td>1.023532</td><td> 1      </td><td>1.011698</td></tr>\n",
       "\t<tr><th scope=row>Pressure..millibars.</th><td>1.024691</td><td> 1      </td><td>1.012270</td></tr>\n",
       "</tbody>\n",
       "</table>\n"
      ],
      "text/latex": [
       "\\begin{tabular}{r|lll}\n",
       "  & GVIF & Df & GVIF\\textasciicircum{}(1/(2*Df))\\\\\n",
       "\\hline\n",
       "\tFormatted.Date & 1.012416 &  1       & 1.006189\\\\\n",
       "\tSummary & 1.938710 & 20       & 1.016688\\\\\n",
       "\tPrecip.Type & 1.155908 &  1       & 1.075131\\\\\n",
       "\tHumidity & 1.403942 &  1       & 1.184880\\\\\n",
       "\tWind.Speed..km.h. & 1.466257 &  1       & 1.210891\\\\\n",
       "\tWind.Bearing..degrees. & 1.023532 &  1       & 1.011698\\\\\n",
       "\tPressure..millibars. & 1.024691 &  1       & 1.012270\\\\\n",
       "\\end{tabular}\n"
      ],
      "text/markdown": [
       "\n",
       "| <!--/--> | GVIF | Df | GVIF^(1/(2*Df)) |\n",
       "|---|---|---|---|\n",
       "| Formatted.Date | 1.012416 |  1       | 1.006189 |\n",
       "| Summary | 1.938710 | 20       | 1.016688 |\n",
       "| Precip.Type | 1.155908 |  1       | 1.075131 |\n",
       "| Humidity | 1.403942 |  1       | 1.184880 |\n",
       "| Wind.Speed..km.h. | 1.466257 |  1       | 1.210891 |\n",
       "| Wind.Bearing..degrees. | 1.023532 |  1       | 1.011698 |\n",
       "| Pressure..millibars. | 1.024691 |  1       | 1.012270 |\n",
       "\n"
      ],
      "text/plain": [
       "                       GVIF     Df GVIF^(1/(2*Df))\n",
       "Formatted.Date         1.012416  1 1.006189       \n",
       "Summary                1.938710 20 1.016688       \n",
       "Precip.Type            1.155908  1 1.075131       \n",
       "Humidity               1.403942  1 1.184880       \n",
       "Wind.Speed..km.h.      1.466257  1 1.210891       \n",
       "Wind.Bearing..degrees. 1.023532  1 1.011698       \n",
       "Pressure..millibars.   1.024691  1 1.012270       "
      ]
     },
     "metadata": {},
     "output_type": "display_data"
    }
   ],
   "source": [
    "vif(fit1)"
   ]
  },
  {
   "cell_type": "code",
   "execution_count": 36,
   "metadata": {},
   "outputs": [
    {
     "name": "stderr",
     "output_type": "stream",
     "text": [
      "Warning message:\n",
      "\"not plotting observations with leverage one:\n",
      "  12182, 36470\"Warning message:\n",
      "\"not plotting observations with leverage one:\n",
      "  12182, 36470\""
     ]
    },
    {
     "data": {
      "image/png": "[encoded data removed]",
      "text/plain": [
       "Plot with title \"\""
      ]
     },
     "metadata": {},
     "output_type": "display_data"
    }
   ],
   "source": [
    "par(mfrow=c(2,2))\n",
    "plot(fit1)"
   ]
  },
  {
   "cell_type": "code",
   "execution_count": 37,
   "metadata": {},
   "outputs": [
    {
     "data": {
      "text/plain": [
       "\n",
       "Call:\n",
       "lm(formula = sqrt(Visibility) ~ ., data = df[-c(20931, 32039, \n",
       "    7181, 14124, 34960, 38502, 26665), ])\n",
       "\n",
       "Residuals:\n",
       "    Min      1Q  Median      3Q     Max \n",
       "-3.4018 -0.2261 -0.0552  0.2968  1.3656 \n",
       "\n",
       "Coefficients:\n",
       "                                             Estimate Std. Error t value\n",
       "(Intercept)                                 4.067e+00  1.076e-01  37.811\n",
       "Formatted.Date                             -3.902e-05  3.484e-06 -11.199\n",
       "SummaryBreezy and Foggy                    -2.343e+00  1.906e-01 -12.295\n",
       "SummaryBreezy and Mostly Cloudy            -3.352e-01  9.792e-02  -3.424\n",
       "SummaryBreezy and Overcast                 -2.603e-01  9.829e-02  -2.648\n",
       "SummaryBreezy and Partly Cloudy            -3.752e-01  9.850e-02  -3.809\n",
       "SummaryClear                               -1.691e-01  9.432e-02  -1.793\n",
       "SummaryDangerously Windy and Partly Cloudy -5.153e-01  4.781e-01  -1.078\n",
       "SummaryDry                                 -5.333e-01  1.429e-01  -3.731\n",
       "SummaryDry and Partly Cloudy               -4.832e-01  1.247e-01  -3.876\n",
       "SummaryFoggy                               -2.082e+00  9.452e-02 -22.025\n",
       "SummaryHumid and Mostly Cloudy             -2.715e-01  1.475e-01  -1.840\n",
       "SummaryHumid and Overcast                  -9.513e-01  4.780e-01  -1.990\n",
       "SummaryHumid and Partly Cloudy             -2.127e-01  1.533e-01  -1.388\n",
       "SummaryMostly Cloudy                       -2.548e-01  9.415e-02  -2.706\n",
       "SummaryOvercast                            -4.978e-01  9.418e-02  -5.285\n",
       "SummaryPartly Cloudy                       -2.344e-01  9.418e-02  -2.489\n",
       "SummaryWindy                               -4.413e-01  2.867e-01  -1.539\n",
       "SummaryWindy and Foggy                     -2.161e+00  3.445e-01  -6.274\n",
       "SummaryWindy and Mostly Cloudy             -4.177e-01  1.388e-01  -3.009\n",
       "SummaryWindy and Overcast                  -6.055e-01  1.261e-01  -4.801\n",
       "SummaryWindy and Partly Cloudy             -4.227e-01  1.161e-01  -3.639\n",
       "Precip.Typesnow                            -3.034e-01  6.804e-03 -44.593\n",
       "Humidity                                   -3.116e-01  1.287e-02 -24.215\n",
       "Wind.Speed..km.h.                           5.013e-03  3.625e-04  13.831\n",
       "Wind.Bearing..degrees.                      1.445e-04  1.979e-05   7.301\n",
       "Pressure..millibars.                        1.467e-04  1.812e-05   8.096\n",
       "                                           Pr(>|t|)    \n",
       "(Intercept)                                 < 2e-16 ***\n",
       "Formatted.Date                              < 2e-16 ***\n",
       "SummaryBreezy and Foggy                     < 2e-16 ***\n",
       "SummaryBreezy and Mostly Cloudy            0.000619 ***\n",
       "SummaryBreezy and Overcast                 0.008088 ** \n",
       "SummaryBreezy and Partly Cloudy            0.000140 ***\n",
       "SummaryClear                               0.073052 .  \n",
       "SummaryDangerously Windy and Partly Cloudy 0.281059    \n",
       "SummaryDry                                 0.000191 ***\n",
       "SummaryDry and Partly Cloudy               0.000106 ***\n",
       "SummaryFoggy                                < 2e-16 ***\n",
       "SummaryHumid and Mostly Cloudy             0.065717 .  \n",
       "SummaryHumid and Overcast                  0.046590 *  \n",
       "SummaryHumid and Partly Cloudy             0.165258    \n",
       "SummaryMostly Cloudy                       0.006810 ** \n",
       "SummaryOvercast                            1.26e-07 ***\n",
       "SummaryPartly Cloudy                       0.012806 *  \n",
       "SummaryWindy                               0.123806    \n",
       "SummaryWindy and Foggy                     3.56e-10 ***\n",
       "SummaryWindy and Mostly Cloudy             0.002624 ** \n",
       "SummaryWindy and Overcast                  1.58e-06 ***\n",
       "SummaryWindy and Partly Cloudy             0.000274 ***\n",
       "Precip.Typesnow                             < 2e-16 ***\n",
       "Humidity                                    < 2e-16 ***\n",
       "Wind.Speed..km.h.                           < 2e-16 ***\n",
       "Wind.Bearing..degrees.                     2.91e-13 ***\n",
       "Pressure..millibars.                       5.79e-16 ***\n",
       "---\n",
       "Signif. codes:  0 '***' 0.001 '**' 0.01 '*' 0.05 '.' 0.1 ' ' 1\n",
       "\n",
       "Residual standard error: 0.4686 on 49966 degrees of freedom\n",
       "Multiple R-squared:  0.5955,\tAdjusted R-squared:  0.5953 \n",
       "F-statistic:  2830 on 26 and 49966 DF,  p-value: < 2.2e-16\n"
      ]
     },
     "metadata": {},
     "output_type": "display_data"
    }
   ],
   "source": [
    "fit2 <- lm(sqrt(Visibility)~., data = df[-c(20931,32039,7181,14124,34960,38502,26665),])\n",
    "summary(fit2)"
   ]
  },
  {
   "cell_type": "code",
   "execution_count": 38,
   "metadata": {},
   "outputs": [
    {
     "name": "stderr",
     "output_type": "stream",
     "text": [
      "Warning message:\n",
      "\"not plotting observations with leverage one:\n",
      "  12181, 36464\"Warning message:\n",
      "\"not plotting observations with leverage one:\n",
      "  12181, 36464\""
     ]
    },
    {
     "data": {
      "image/png": "[encoded data removed]",
      "text/plain": [
       "Plot with title \"\""
      ]
     },
     "metadata": {},
     "output_type": "display_data"
    }
   ],
   "source": [
    "par(mfrow=c(2,2))\n",
    "plot(fit2)"
   ]
  },
  {
   "cell_type": "code",
   "execution_count": 41,
   "metadata": {},
   "outputs": [],
   "source": [
    "cooksdistance <- cooks.distance(fit2)\n",
    "influential <- as.numeric(names(cooksdistance)[(cooksdistance > 4 * mean(cooksdistance, na.rm = TRUE))]) "
   ]
  },
  {
   "cell_type": "code",
   "execution_count": 47,
   "metadata": {},
   "outputs": [
    {
     "name": "stdout",
     "output_type": "stream",
     "text": [
      "'data.frame':\t1338 obs. of  8 variables:\n",
      " $ Formatted.Date        : Date, format: \"2006-04-11\" \"2006-04-11\" ...\n",
      " $ Summary               : Factor w/ 21 levels \"Breezy\",\"Breezy and Foggy\",..: 15 15 15 16 14 14 15 6 6 6 ...\n",
      " $ Precip.Type           : Factor w/ 2 levels \"rain\",\"snow\": 1 1 1 1 1 1 1 1 1 1 ...\n",
      " $ Humidity              : num  0.93 0.96 0.96 0.96 0.95 0.96 0.96 0.96 0.96 0.96 ...\n",
      " $ Wind.Speed..km.h.     : num  23.22 25.42 28.13 3.35 2.85 ...\n",
      " $ Wind.Bearing..degrees.: int  340 330 339 284 298 335 332 321 319 100 ...\n",
      " $ Pressure..millibars.  : num  1005 1005 1005 1012 1016 ...\n",
      " $ Visibility            : num  3.82 4.49 4.44 4.12 3.64 ...\n"
     ]
    }
   ],
   "source": [
    "str(df[influential,])"
   ]
  },
  {
   "cell_type": "markdown",
   "metadata": {},
   "source": [
    "# remove outlier"
   ]
  },
  {
   "cell_type": "code",
   "execution_count": 59,
   "metadata": {},
   "outputs": [],
   "source": [
    "rm_out_df<-setdiff(df,df[influential,] )"
   ]
  },
  {
   "cell_type": "code",
   "execution_count": 61,
   "metadata": {},
   "outputs": [
    {
     "name": "stdout",
     "output_type": "stream",
     "text": [
      "'data.frame':\t48635 obs. of  8 variables:\n",
      " $ Formatted.Date        : Date, format: \"2006-04-01\" \"2006-04-01\" ...\n",
      " $ Summary               : Factor w/ 21 levels \"Breezy\",\"Breezy and Foggy\",..: 16 16 14 16 14 16 16 16 16 16 ...\n",
      " $ Precip.Type           : Factor w/ 2 levels \"rain\",\"snow\": 1 1 1 1 1 1 1 1 1 1 ...\n",
      " $ Humidity              : num  0.89 0.86 0.89 0.83 0.83 0.85 0.95 0.89 0.82 0.72 ...\n",
      " $ Wind.Speed..km.h.     : num  14.12 14.26 3.93 14.1 11.04 ...\n",
      " $ Wind.Bearing..degrees.: int  251 259 204 269 259 258 259 260 259 279 ...\n",
      " $ Pressure..millibars.  : num  1015 1016 1016 1016 1017 ...\n",
      " $ Visibility            : num  15.8 15.8 15 15.8 15.8 ...\n"
     ]
    }
   ],
   "source": [
    "str(rm_out_df)"
   ]
  },
  {
   "cell_type": "code",
   "execution_count": 66,
   "metadata": {},
   "outputs": [
    {
     "data": {
      "text/plain": [
       "\n",
       "Call:\n",
       "lm(formula = sqrt(Visibility) ~ ., data = rm_out_df)\n",
       "\n",
       "Residuals:\n",
       "    Min      1Q  Median      3Q     Max \n",
       "-3.4829 -0.2148 -0.0608  0.2794  1.2290 \n",
       "\n",
       "Coefficients:\n",
       "                                             Estimate Std. Error t value\n",
       "(Intercept)                                 1.719e+00  3.171e-01   5.422\n",
       "Formatted.Date                             -4.432e-05  3.343e-06 -13.259\n",
       "SummaryBreezy and Foggy                     7.439e-01  5.418e-01   1.373\n",
       "SummaryBreezy and Mostly Cloudy             1.963e+00  3.142e-01   6.249\n",
       "SummaryBreezy and Overcast                  2.037e+00  3.153e-01   6.462\n",
       "SummaryBreezy and Partly Cloudy             1.957e+00  3.143e-01   6.227\n",
       "SummaryClear                                2.242e+00  3.129e-01   7.164\n",
       "SummaryDangerously Windy and Partly Cloudy  1.867e+00  5.419e-01   3.445\n",
       "SummaryDry                                  1.866e+00  3.345e-01   5.577\n",
       "SummaryDry and Partly Cloudy                1.895e+00  3.236e-01   5.858\n",
       "SummaryFoggy                                3.204e-01  3.130e-01   1.024\n",
       "SummaryHumid and Overcast                   1.395e+00  5.418e-01   2.574\n",
       "SummaryHumid and Partly Cloudy              2.169e+00  4.038e-01   5.370\n",
       "SummaryMostly Cloudy                        2.110e+00  3.129e-01   6.745\n",
       "SummaryOvercast                             1.854e+00  3.129e-01   5.926\n",
       "SummaryPartly Cloudy                        2.132e+00  3.129e-01   6.814\n",
       "SummaryWindy                                2.256e+00  4.425e-01   5.098\n",
       "SummaryWindy and Foggy                      2.095e-01  4.424e-01   0.473\n",
       "SummaryWindy and Mostly Cloudy              1.951e+00  3.330e-01   5.859\n",
       "SummaryWindy and Overcast                   1.758e+00  3.613e-01   4.868\n",
       "SummaryWindy and Partly Cloudy              1.966e+00  3.231e-01   6.084\n",
       "Precip.Typesnow                            -3.543e-01  6.705e-03 -52.835\n",
       "Humidity                                   -2.250e-01  1.229e-02 -18.298\n",
       "Wind.Speed..km.h.                           4.870e-03  3.467e-04  14.045\n",
       "Wind.Bearing..degrees.                      1.412e-04  1.898e-05   7.440\n",
       "Pressure..millibars.                        1.524e-04  1.953e-05   7.801\n",
       "                                           Pr(>|t|)    \n",
       "(Intercept)                                5.94e-08 ***\n",
       "Formatted.Date                              < 2e-16 ***\n",
       "SummaryBreezy and Foggy                    0.169792    \n",
       "SummaryBreezy and Mostly Cloudy            4.17e-10 ***\n",
       "SummaryBreezy and Overcast                 1.04e-10 ***\n",
       "SummaryBreezy and Partly Cloudy            4.79e-10 ***\n",
       "SummaryClear                               7.92e-13 ***\n",
       "SummaryDangerously Windy and Partly Cloudy 0.000572 ***\n",
       "SummaryDry                                 2.46e-08 ***\n",
       "SummaryDry and Partly Cloudy               4.71e-09 ***\n",
       "SummaryFoggy                               0.305987    \n",
       "SummaryHumid and Overcast                  0.010051 *  \n",
       "SummaryHumid and Partly Cloudy             7.91e-08 ***\n",
       "SummaryMostly Cloudy                       1.55e-11 ***\n",
       "SummaryOvercast                            3.12e-09 ***\n",
       "SummaryPartly Cloudy                       9.61e-12 ***\n",
       "SummaryWindy                               3.45e-07 ***\n",
       "SummaryWindy and Foggy                     0.635909    \n",
       "SummaryWindy and Mostly Cloudy             4.68e-09 ***\n",
       "SummaryWindy and Overcast                  1.13e-06 ***\n",
       "SummaryWindy and Partly Cloudy             1.18e-09 ***\n",
       "Precip.Typesnow                             < 2e-16 ***\n",
       "Humidity                                    < 2e-16 ***\n",
       "Wind.Speed..km.h.                           < 2e-16 ***\n",
       "Wind.Bearing..degrees.                     1.03e-13 ***\n",
       "Pressure..millibars.                       6.24e-15 ***\n",
       "---\n",
       "Signif. codes:  0 '***' 0.001 '**' 0.01 '*' 0.05 '.' 0.1 ' ' 1\n",
       "\n",
       "Residual standard error: 0.4424 on 48609 degrees of freedom\n",
       "Multiple R-squared:  0.6153,\tAdjusted R-squared:  0.6151 \n",
       "F-statistic:  3110 on 25 and 48609 DF,  p-value: < 2.2e-16\n"
      ]
     },
     "metadata": {},
     "output_type": "display_data"
    }
   ],
   "source": [
    "fit3 <- lm(sqrt(Visibility)~., data = rm_out_df)\n",
    "summary(fit3)"
   ]
  },
  {
   "cell_type": "markdown",
   "metadata": {},
   "source": [
    "# fitting"
   ]
  },
  {
   "cell_type": "markdown",
   "metadata": {},
   "source": [
    "- sqrt 변환을 해주었기에 학습한 값에 제곱을 해주어야 원하는 예측치를 얻을 수 있다."
   ]
  },
  {
   "cell_type": "code",
   "execution_count": 71,
   "metadata": {},
   "outputs": [],
   "source": [
    "yhat = fitted(fit3)^2"
   ]
  },
  {
   "cell_type": "code",
   "execution_count": 72,
   "metadata": {},
   "outputs": [],
   "source": [
    "rm_out_df$yhat <- yhat"
   ]
  },
  {
   "cell_type": "code",
   "execution_count": 73,
   "metadata": {},
   "outputs": [
    {
     "data": {
      "text/html": [
       "<table>\n",
       "<thead><tr><th scope=col>Formatted.Date</th><th scope=col>Summary</th><th scope=col>Precip.Type</th><th scope=col>Humidity</th><th scope=col>Wind.Speed..km.h.</th><th scope=col>Wind.Bearing..degrees.</th><th scope=col>Pressure..millibars.</th><th scope=col>Visibility</th><th scope=col>yhat</th></tr></thead>\n",
       "<tbody>\n",
       "\t<tr><td>2006-04-01   </td><td>Partly Cloudy</td><td>rain         </td><td>0.89         </td><td>14.1197      </td><td>251          </td><td>1015.13      </td><td>15.8263      </td><td>11.04210     </td></tr>\n",
       "\t<tr><td>2006-04-01   </td><td>Partly Cloudy</td><td>rain         </td><td>0.86         </td><td>14.2646      </td><td>259          </td><td>1015.63      </td><td>15.8263      </td><td>11.09973     </td></tr>\n",
       "\t<tr><td>2006-04-01   </td><td>Mostly Cloudy</td><td>rain         </td><td>0.89         </td><td> 3.9284      </td><td>204          </td><td>1015.94      </td><td>14.9569      </td><td>10.53068     </td></tr>\n",
       "\t<tr><td>2006-04-01   </td><td>Partly Cloudy</td><td>rain         </td><td>0.83         </td><td>14.1036      </td><td>269          </td><td>1016.41      </td><td>15.8263      </td><td>11.14974     </td></tr>\n",
       "\t<tr><td>2006-04-01   </td><td>Mostly Cloudy</td><td>rain         </td><td>0.83         </td><td>11.0446      </td><td>259          </td><td>1016.51      </td><td>15.8263      </td><td>10.89731     </td></tr>\n",
       "\t<tr><td>2006-04-01   </td><td>Partly Cloudy</td><td>rain         </td><td>0.85         </td><td>13.9587      </td><td>258          </td><td>1016.66      </td><td>14.9569      </td><td>11.10490     </td></tr>\n",
       "\t<tr><td>2006-04-01   </td><td>Partly Cloudy</td><td>rain         </td><td>0.95         </td><td>12.3648      </td><td>259          </td><td>1016.72      </td><td> 9.9820      </td><td>10.90515     </td></tr>\n",
       "\t<tr><td>2006-04-01   </td><td>Partly Cloudy</td><td>rain         </td><td>0.89         </td><td>14.1519      </td><td>260          </td><td>1016.84      </td><td> 9.9820      </td><td>11.05333     </td></tr>\n",
       "\t<tr><td>2006-04-01   </td><td>Partly Cloudy</td><td>rain         </td><td>0.82         </td><td>11.3183      </td><td>259          </td><td>1017.37      </td><td> 9.9820      </td><td>11.06588     </td></tr>\n",
       "\t<tr><td>2006-04-01   </td><td>Partly Cloudy</td><td>rain         </td><td>0.72         </td><td>12.5258      </td><td>279          </td><td>1017.22      </td><td> 9.9820      </td><td>11.27428     </td></tr>\n",
       "\t<tr><td>2006-04-01   </td><td>Partly Cloudy</td><td>rain         </td><td>0.67         </td><td>17.5651      </td><td>290          </td><td>1017.42      </td><td>11.2056      </td><td>11.52665     </td></tr>\n",
       "\t<tr><td>2006-04-01   </td><td>Partly Cloudy</td><td>rain         </td><td>0.54         </td><td>19.7869      </td><td>316          </td><td>1017.74      </td><td>11.4471      </td><td>11.82588     </td></tr>\n",
       "\t<tr><td>2006-04-01   </td><td>Partly Cloudy</td><td>rain         </td><td>0.55         </td><td>21.9443      </td><td>281          </td><td>1017.59      </td><td>11.2700      </td><td>11.84853     </td></tr>\n",
       "\t<tr><td>2006-04-01   </td><td>Partly Cloudy</td><td>rain         </td><td>0.51         </td><td>20.6885      </td><td>289          </td><td>1017.48      </td><td>11.2700      </td><td>11.87605     </td></tr>\n",
       "\t<tr><td>2006-04-01   </td><td>Partly Cloudy</td><td>rain         </td><td>0.47         </td><td>15.3755      </td><td>262          </td><td>1017.17      </td><td>11.4471      </td><td>11.73357     </td></tr>\n",
       "\t<tr><td>2006-04-01   </td><td>Partly Cloudy</td><td>rain         </td><td>0.46         </td><td>10.4006      </td><td>288          </td><td>1016.47      </td><td>11.2700      </td><td>11.60777     </td></tr>\n",
       "\t<tr><td>2006-04-01   </td><td>Partly Cloudy</td><td>rain         </td><td>0.60         </td><td>14.4095      </td><td>251          </td><td>1016.15      </td><td>11.2700      </td><td>11.49056     </td></tr>\n",
       "\t<tr><td>2006-04-01   </td><td>Mostly Cloudy</td><td>rain         </td><td>0.63         </td><td>11.1573      </td><td>230          </td><td>1016.17      </td><td>11.4471      </td><td>11.17232     </td></tr>\n",
       "\t<tr><td>2006-04-01   </td><td>Mostly Cloudy</td><td>rain         </td><td>0.69         </td><td> 8.5169      </td><td>163          </td><td>1015.82      </td><td>11.2056      </td><td>10.93382     </td></tr>\n",
       "\t<tr><td>2006-04-01   </td><td>Mostly Cloudy</td><td>rain         </td><td>0.70         </td><td> 7.6314      </td><td>139          </td><td>1015.83      </td><td>11.2056      </td><td>10.86812     </td></tr>\n",
       "\t<tr><td>2006-04-01   </td><td>Mostly Cloudy</td><td>rain         </td><td>0.77         </td><td> 7.3899      </td><td>147          </td><td>1015.85      </td><td>11.0285      </td><td>10.76426     </td></tr>\n",
       "\t<tr><td>2006-04-01   </td><td>Mostly Cloudy</td><td>rain         </td><td>0.76         </td><td> 4.9266      </td><td>160          </td><td>1015.77      </td><td> 9.9820      </td><td>10.71233     </td></tr>\n",
       "\t<tr><td>2006-04-01   </td><td>Partly Cloudy</td><td>rain         </td><td>0.79         </td><td> 6.6493      </td><td>163          </td><td>1015.40      </td><td>15.8263      </td><td>10.86822     </td></tr>\n",
       "\t<tr><td>2006-04-01   </td><td>Mostly Cloudy</td><td>rain         </td><td>0.77         </td><td> 3.9284      </td><td>152          </td><td>1015.51      </td><td>14.9569      </td><td>10.65820     </td></tr>\n",
       "\t<tr><td>2006-04-10   </td><td>Partly Cloudy</td><td>rain         </td><td>0.62         </td><td>16.9855      </td><td>150          </td><td>1014.40      </td><td>15.8263      </td><td>11.44396     </td></tr>\n",
       "\t<tr><td>2006-04-10   </td><td>Partly Cloudy</td><td>rain         </td><td>0.66         </td><td>17.2109      </td><td>149          </td><td>1014.20      </td><td>15.8263      </td><td>11.38941     </td></tr>\n",
       "\t<tr><td>2006-04-10   </td><td>Mostly Cloudy</td><td>rain         </td><td>0.80         </td><td>10.8192      </td><td>163          </td><td>1008.71      </td><td>14.9569      </td><td>10.83474     </td></tr>\n",
       "\t<tr><td>2006-04-10   </td><td>Partly Cloudy</td><td>rain         </td><td>0.79         </td><td>11.0768      </td><td>180          </td><td>1014.47      </td><td>15.8263      </td><td>11.02320     </td></tr>\n",
       "\t<tr><td>2006-04-10   </td><td>Partly Cloudy</td><td>rain         </td><td>0.82         </td><td> 6.6493      </td><td>161          </td><td>1014.45      </td><td>15.8263      </td><td>10.81834     </td></tr>\n",
       "\t<tr><td>2006-04-10   </td><td>Partly Cloudy</td><td>rain         </td><td>0.83         </td><td>13.0088      </td><td>135          </td><td>1014.49      </td><td>14.9569      </td><td>10.98379     </td></tr>\n",
       "\t<tr><td>...</td><td>...</td><td>...</td><td>...</td><td>...</td><td>...</td><td>...</td><td>...</td><td>...</td></tr>\n",
       "\t<tr><td>2011-05-20   </td><td>Partly Cloudy</td><td>rain         </td><td>0.96         </td><td>0.0000       </td><td>  0          </td><td>1019.29      </td><td> 9.9820      </td><td> 9.737853    </td></tr>\n",
       "\t<tr><td>2011-05-20   </td><td>Partly Cloudy</td><td>rain         </td><td>0.96         </td><td>3.2200       </td><td>320          </td><td>1019.49      </td><td> 9.9820      </td><td>10.121599    </td></tr>\n",
       "\t<tr><td>2011-05-20   </td><td>Clear        </td><td>rain         </td><td>0.87         </td><td>5.4901       </td><td>166          </td><td>1019.37      </td><td> 8.4203      </td><td>10.896620    </td></tr>\n",
       "\t<tr><td>2011-05-20   </td><td>Partly Cloudy</td><td>rain         </td><td>0.84         </td><td>4.7495       </td><td>139          </td><td>1019.68      </td><td> 9.9820      </td><td>10.178420    </td></tr>\n",
       "\t<tr><td>2011-05-20   </td><td>Partly Cloudy</td><td>rain         </td><td>0.76         </td><td>3.1395       </td><td>168          </td><td>1019.88      </td><td> 9.9820      </td><td>10.269751    </td></tr>\n",
       "\t<tr><td>2011-05-20   </td><td>Partly Cloudy</td><td>rain         </td><td>0.68         </td><td>3.2522       </td><td>170          </td><td>1019.81      </td><td> 9.9820      </td><td>10.390713    </td></tr>\n",
       "\t<tr><td>2011-05-20   </td><td>Partly Cloudy</td><td>rain         </td><td>0.64         </td><td>4.6368       </td><td>218          </td><td>1020.07      </td><td> 9.9820      </td><td>10.536653    </td></tr>\n",
       "\t<tr><td>2011-05-20   </td><td>Partly Cloudy</td><td>rain         </td><td>0.58         </td><td>7.3738       </td><td>170          </td><td>1020.07      </td><td> 9.9820      </td><td>10.667218    </td></tr>\n",
       "\t<tr><td>2011-05-20   </td><td>Mostly Cloudy</td><td>rain         </td><td>0.46         </td><td>5.0554       </td><td>190          </td><td>1020.11      </td><td>10.0303      </td><td>10.646415    </td></tr>\n",
       "\t<tr><td>2011-05-20   </td><td>Partly Cloudy</td><td>rain         </td><td>0.42         </td><td>3.2361       </td><td> 94          </td><td>1020.05      </td><td>10.0464      </td><td>10.700626    </td></tr>\n",
       "\t<tr><td>2011-05-20   </td><td>Mostly Cloudy</td><td>rain         </td><td>0.41         </td><td>4.6207       </td><td>247          </td><td>1019.56      </td><td>10.0464      </td><td>10.758268    </td></tr>\n",
       "\t<tr><td>2011-05-20   </td><td>Mostly Cloudy</td><td>rain         </td><td>0.39         </td><td>7.1162       </td><td>258          </td><td>1019.17      </td><td>10.0464      </td><td>10.877633    </td></tr>\n",
       "\t<tr><td>2011-05-20   </td><td>Mostly Cloudy</td><td>rain         </td><td>0.35         </td><td>7.5348       </td><td>285          </td><td>1018.47      </td><td>10.0464      </td><td>10.975096    </td></tr>\n",
       "\t<tr><td>2011-05-20   </td><td>Mostly Cloudy</td><td>rain         </td><td>0.38         </td><td>4.4436       </td><td>282          </td><td>1017.96      </td><td>10.0464      </td><td>10.827813    </td></tr>\n",
       "\t<tr><td>2011-05-20   </td><td>Mostly Cloudy</td><td>rain         </td><td>0.37         </td><td>2.9785       </td><td>258          </td><td>1017.70      </td><td>11.4471      </td><td>10.773170    </td></tr>\n",
       "\t<tr><td>2011-05-20   </td><td>Mostly Cloudy</td><td>rain         </td><td>0.37         </td><td>4.0411       </td><td>310          </td><td>1017.27      </td><td>11.2700      </td><td>10.855061    </td></tr>\n",
       "\t<tr><td>2011-05-20   </td><td>Mostly Cloudy</td><td>rain         </td><td>0.53         </td><td>1.6261       </td><td>305          </td><td>1017.58      </td><td>10.0464      </td><td>10.538387    </td></tr>\n",
       "\t<tr><td>2011-05-20   </td><td>Mostly Cloudy</td><td>rain         </td><td>0.65         </td><td>0.1771       </td><td>139          </td><td>1017.66      </td><td>10.3523      </td><td>10.168512    </td></tr>\n",
       "\t<tr><td>2011-05-20   </td><td>Mostly Cloudy</td><td>rain         </td><td>0.78         </td><td>3.2200       </td><td>330          </td><td>1018.10      </td><td> 9.9820      </td><td>10.249080    </td></tr>\n",
       "\t<tr><td>2011-05-20   </td><td>Partly Cloudy</td><td>rain         </td><td>0.89         </td><td>3.2200       </td><td> 50          </td><td>1018.79      </td><td>11.9784      </td><td> 9.979061    </td></tr>\n",
       "\t<tr><td>2011-05-20   </td><td>Partly Cloudy</td><td>rain         </td><td>0.88         </td><td>1.5295       </td><td> 39          </td><td>1018.98      </td><td>12.0428      </td><td> 9.931688    </td></tr>\n",
       "\t<tr><td>2011-05-21   </td><td>Partly Cloudy</td><td>rain         </td><td>0.90         </td><td>3.2200       </td><td> 80          </td><td>1018.72      </td><td> 9.9820      </td><td> 9.991266    </td></tr>\n",
       "\t<tr><td>2011-05-21   </td><td>Partly Cloudy</td><td>rain         </td><td>0.93         </td><td>0.0000       </td><td>  0          </td><td>1018.61      </td><td> 9.9820      </td><td> 9.779094    </td></tr>\n",
       "\t<tr><td>2011-05-21   </td><td>Mostly Cloudy</td><td>rain         </td><td>0.92         </td><td>5.9570       </td><td>333          </td><td>1018.44      </td><td>14.7154      </td><td>10.135840    </td></tr>\n",
       "\t<tr><td>2011-05-21   </td><td>Mostly Cloudy</td><td>rain         </td><td>0.93         </td><td>3.2200       </td><td>310          </td><td>1018.63      </td><td> 8.1305      </td><td>10.016506    </td></tr>\n",
       "\t<tr><td>2011-05-21   </td><td>Mostly Cloudy</td><td>rain         </td><td>0.93         </td><td>0.0000       </td><td>  0          </td><td>1018.81      </td><td> 6.2951      </td><td> 9.643903    </td></tr>\n",
       "\t<tr><td>2011-05-21   </td><td>Mostly Cloudy</td><td>rain         </td><td>0.96         </td><td>3.0107       </td><td> 30          </td><td>1018.86      </td><td> 6.8425      </td><td> 9.719552    </td></tr>\n",
       "\t<tr><td>2011-05-21   </td><td>Overcast     </td><td>rain         </td><td>0.93         </td><td>0.0000       </td><td>  0          </td><td>1019.30      </td><td> 6.2951      </td><td> 8.119248    </td></tr>\n",
       "\t<tr><td>2011-05-21   </td><td>Mostly Cloudy</td><td>rain         </td><td>0.84         </td><td>0.1449       </td><td> 80          </td><td>1019.41      </td><td> 8.1305      </td><td> 9.845805    </td></tr>\n",
       "\t<tr><td>2011-05-21   </td><td>Mostly Cloudy</td><td>rain         </td><td>0.70         </td><td>7.9534       </td><td>342          </td><td>1019.54      </td><td> 9.9820      </td><td>10.525717    </td></tr>\n",
       "</tbody>\n",
       "</table>\n"
      ],
      "text/latex": [
       "\\begin{tabular}{r|lllllllll}\n",
       " Formatted.Date & Summary & Precip.Type & Humidity & Wind.Speed..km.h. & Wind.Bearing..degrees. & Pressure..millibars. & Visibility & yhat\\\\\n",
       "\\hline\n",
       "\t 2006-04-01    & Partly Cloudy & rain          & 0.89          & 14.1197       & 251           & 1015.13       & 15.8263       & 11.04210     \\\\\n",
       "\t 2006-04-01    & Partly Cloudy & rain          & 0.86          & 14.2646       & 259           & 1015.63       & 15.8263       & 11.09973     \\\\\n",
       "\t 2006-04-01    & Mostly Cloudy & rain          & 0.89          &  3.9284       & 204           & 1015.94       & 14.9569       & 10.53068     \\\\\n",
       "\t 2006-04-01    & Partly Cloudy & rain          & 0.83          & 14.1036       & 269           & 1016.41       & 15.8263       & 11.14974     \\\\\n",
       "\t 2006-04-01    & Mostly Cloudy & rain          & 0.83          & 11.0446       & 259           & 1016.51       & 15.8263       & 10.89731     \\\\\n",
       "\t 2006-04-01    & Partly Cloudy & rain          & 0.85          & 13.9587       & 258           & 1016.66       & 14.9569       & 11.10490     \\\\\n",
       "\t 2006-04-01    & Partly Cloudy & rain          & 0.95          & 12.3648       & 259           & 1016.72       &  9.9820       & 10.90515     \\\\\n",
       "\t 2006-04-01    & Partly Cloudy & rain          & 0.89          & 14.1519       & 260           & 1016.84       &  9.9820       & 11.05333     \\\\\n",
       "\t 2006-04-01    & Partly Cloudy & rain          & 0.82          & 11.3183       & 259           & 1017.37       &  9.9820       & 11.06588     \\\\\n",
       "\t 2006-04-01    & Partly Cloudy & rain          & 0.72          & 12.5258       & 279           & 1017.22       &  9.9820       & 11.27428     \\\\\n",
       "\t 2006-04-01    & Partly Cloudy & rain          & 0.67          & 17.5651       & 290           & 1017.42       & 11.2056       & 11.52665     \\\\\n",
       "\t 2006-04-01    & Partly Cloudy & rain          & 0.54          & 19.7869       & 316           & 1017.74       & 11.4471       & 11.82588     \\\\\n",
       "\t 2006-04-01    & Partly Cloudy & rain          & 0.55          & 21.9443       & 281           & 1017.59       & 11.2700       & 11.84853     \\\\\n",
       "\t 2006-04-01    & Partly Cloudy & rain          & 0.51          & 20.6885       & 289           & 1017.48       & 11.2700       & 11.87605     \\\\\n",
       "\t 2006-04-01    & Partly Cloudy & rain          & 0.47          & 15.3755       & 262           & 1017.17       & 11.4471       & 11.73357     \\\\\n",
       "\t 2006-04-01    & Partly Cloudy & rain          & 0.46          & 10.4006       & 288           & 1016.47       & 11.2700       & 11.60777     \\\\\n",
       "\t 2006-04-01    & Partly Cloudy & rain          & 0.60          & 14.4095       & 251           & 1016.15       & 11.2700       & 11.49056     \\\\\n",
       "\t 2006-04-01    & Mostly Cloudy & rain          & 0.63          & 11.1573       & 230           & 1016.17       & 11.4471       & 11.17232     \\\\\n",
       "\t 2006-04-01    & Mostly Cloudy & rain          & 0.69          &  8.5169       & 163           & 1015.82       & 11.2056       & 10.93382     \\\\\n",
       "\t 2006-04-01    & Mostly Cloudy & rain          & 0.70          &  7.6314       & 139           & 1015.83       & 11.2056       & 10.86812     \\\\\n",
       "\t 2006-04-01    & Mostly Cloudy & rain          & 0.77          &  7.3899       & 147           & 1015.85       & 11.0285       & 10.76426     \\\\\n",
       "\t 2006-04-01    & Mostly Cloudy & rain          & 0.76          &  4.9266       & 160           & 1015.77       &  9.9820       & 10.71233     \\\\\n",
       "\t 2006-04-01    & Partly Cloudy & rain          & 0.79          &  6.6493       & 163           & 1015.40       & 15.8263       & 10.86822     \\\\\n",
       "\t 2006-04-01    & Mostly Cloudy & rain          & 0.77          &  3.9284       & 152           & 1015.51       & 14.9569       & 10.65820     \\\\\n",
       "\t 2006-04-10    & Partly Cloudy & rain          & 0.62          & 16.9855       & 150           & 1014.40       & 15.8263       & 11.44396     \\\\\n",
       "\t 2006-04-10    & Partly Cloudy & rain          & 0.66          & 17.2109       & 149           & 1014.20       & 15.8263       & 11.38941     \\\\\n",
       "\t 2006-04-10    & Mostly Cloudy & rain          & 0.80          & 10.8192       & 163           & 1008.71       & 14.9569       & 10.83474     \\\\\n",
       "\t 2006-04-10    & Partly Cloudy & rain          & 0.79          & 11.0768       & 180           & 1014.47       & 15.8263       & 11.02320     \\\\\n",
       "\t 2006-04-10    & Partly Cloudy & rain          & 0.82          &  6.6493       & 161           & 1014.45       & 15.8263       & 10.81834     \\\\\n",
       "\t 2006-04-10    & Partly Cloudy & rain          & 0.83          & 13.0088       & 135           & 1014.49       & 14.9569       & 10.98379     \\\\\n",
       "\t ... & ... & ... & ... & ... & ... & ... & ... & ...\\\\\n",
       "\t 2011-05-20    & Partly Cloudy & rain          & 0.96          & 0.0000        &   0           & 1019.29       &  9.9820       &  9.737853    \\\\\n",
       "\t 2011-05-20    & Partly Cloudy & rain          & 0.96          & 3.2200        & 320           & 1019.49       &  9.9820       & 10.121599    \\\\\n",
       "\t 2011-05-20    & Clear         & rain          & 0.87          & 5.4901        & 166           & 1019.37       &  8.4203       & 10.896620    \\\\\n",
       "\t 2011-05-20    & Partly Cloudy & rain          & 0.84          & 4.7495        & 139           & 1019.68       &  9.9820       & 10.178420    \\\\\n",
       "\t 2011-05-20    & Partly Cloudy & rain          & 0.76          & 3.1395        & 168           & 1019.88       &  9.9820       & 10.269751    \\\\\n",
       "\t 2011-05-20    & Partly Cloudy & rain          & 0.68          & 3.2522        & 170           & 1019.81       &  9.9820       & 10.390713    \\\\\n",
       "\t 2011-05-20    & Partly Cloudy & rain          & 0.64          & 4.6368        & 218           & 1020.07       &  9.9820       & 10.536653    \\\\\n",
       "\t 2011-05-20    & Partly Cloudy & rain          & 0.58          & 7.3738        & 170           & 1020.07       &  9.9820       & 10.667218    \\\\\n",
       "\t 2011-05-20    & Mostly Cloudy & rain          & 0.46          & 5.0554        & 190           & 1020.11       & 10.0303       & 10.646415    \\\\\n",
       "\t 2011-05-20    & Partly Cloudy & rain          & 0.42          & 3.2361        &  94           & 1020.05       & 10.0464       & 10.700626    \\\\\n",
       "\t 2011-05-20    & Mostly Cloudy & rain          & 0.41          & 4.6207        & 247           & 1019.56       & 10.0464       & 10.758268    \\\\\n",
       "\t 2011-05-20    & Mostly Cloudy & rain          & 0.39          & 7.1162        & 258           & 1019.17       & 10.0464       & 10.877633    \\\\\n",
       "\t 2011-05-20    & Mostly Cloudy & rain          & 0.35          & 7.5348        & 285           & 1018.47       & 10.0464       & 10.975096    \\\\\n",
       "\t 2011-05-20    & Mostly Cloudy & rain          & 0.38          & 4.4436        & 282           & 1017.96       & 10.0464       & 10.827813    \\\\\n",
       "\t 2011-05-20    & Mostly Cloudy & rain          & 0.37          & 2.9785        & 258           & 1017.70       & 11.4471       & 10.773170    \\\\\n",
       "\t 2011-05-20    & Mostly Cloudy & rain          & 0.37          & 4.0411        & 310           & 1017.27       & 11.2700       & 10.855061    \\\\\n",
       "\t 2011-05-20    & Mostly Cloudy & rain          & 0.53          & 1.6261        & 305           & 1017.58       & 10.0464       & 10.538387    \\\\\n",
       "\t 2011-05-20    & Mostly Cloudy & rain          & 0.65          & 0.1771        & 139           & 1017.66       & 10.3523       & 10.168512    \\\\\n",
       "\t 2011-05-20    & Mostly Cloudy & rain          & 0.78          & 3.2200        & 330           & 1018.10       &  9.9820       & 10.249080    \\\\\n",
       "\t 2011-05-20    & Partly Cloudy & rain          & 0.89          & 3.2200        &  50           & 1018.79       & 11.9784       &  9.979061    \\\\\n",
       "\t 2011-05-20    & Partly Cloudy & rain          & 0.88          & 1.5295        &  39           & 1018.98       & 12.0428       &  9.931688    \\\\\n",
       "\t 2011-05-21    & Partly Cloudy & rain          & 0.90          & 3.2200        &  80           & 1018.72       &  9.9820       &  9.991266    \\\\\n",
       "\t 2011-05-21    & Partly Cloudy & rain          & 0.93          & 0.0000        &   0           & 1018.61       &  9.9820       &  9.779094    \\\\\n",
       "\t 2011-05-21    & Mostly Cloudy & rain          & 0.92          & 5.9570        & 333           & 1018.44       & 14.7154       & 10.135840    \\\\\n",
       "\t 2011-05-21    & Mostly Cloudy & rain          & 0.93          & 3.2200        & 310           & 1018.63       &  8.1305       & 10.016506    \\\\\n",
       "\t 2011-05-21    & Mostly Cloudy & rain          & 0.93          & 0.0000        &   0           & 1018.81       &  6.2951       &  9.643903    \\\\\n",
       "\t 2011-05-21    & Mostly Cloudy & rain          & 0.96          & 3.0107        &  30           & 1018.86       &  6.8425       &  9.719552    \\\\\n",
       "\t 2011-05-21    & Overcast      & rain          & 0.93          & 0.0000        &   0           & 1019.30       &  6.2951       &  8.119248    \\\\\n",
       "\t 2011-05-21    & Mostly Cloudy & rain          & 0.84          & 0.1449        &  80           & 1019.41       &  8.1305       &  9.845805    \\\\\n",
       "\t 2011-05-21    & Mostly Cloudy & rain          & 0.70          & 7.9534        & 342           & 1019.54       &  9.9820       & 10.525717    \\\\\n",
       "\\end{tabular}\n"
      ],
      "text/markdown": [
       "\n",
       "| Formatted.Date | Summary | Precip.Type | Humidity | Wind.Speed..km.h. | Wind.Bearing..degrees. | Pressure..millibars. | Visibility | yhat |\n",
       "|---|---|---|---|---|---|---|---|---|\n",
       "| 2006-04-01    | Partly Cloudy | rain          | 0.89          | 14.1197       | 251           | 1015.13       | 15.8263       | 11.04210      |\n",
       "| 2006-04-01    | Partly Cloudy | rain          | 0.86          | 14.2646       | 259           | 1015.63       | 15.8263       | 11.09973      |\n",
       "| 2006-04-01    | Mostly Cloudy | rain          | 0.89          |  3.9284       | 204           | 1015.94       | 14.9569       | 10.53068      |\n",
       "| 2006-04-01    | Partly Cloudy | rain          | 0.83          | 14.1036       | 269           | 1016.41       | 15.8263       | 11.14974      |\n",
       "| 2006-04-01    | Mostly Cloudy | rain          | 0.83          | 11.0446       | 259           | 1016.51       | 15.8263       | 10.89731      |\n",
       "| 2006-04-01    | Partly Cloudy | rain          | 0.85          | 13.9587       | 258           | 1016.66       | 14.9569       | 11.10490      |\n",
       "| 2006-04-01    | Partly Cloudy | rain          | 0.95          | 12.3648       | 259           | 1016.72       |  9.9820       | 10.90515      |\n",
       "| 2006-04-01    | Partly Cloudy | rain          | 0.89          | 14.1519       | 260           | 1016.84       |  9.9820       | 11.05333      |\n",
       "| 2006-04-01    | Partly Cloudy | rain          | 0.82          | 11.3183       | 259           | 1017.37       |  9.9820       | 11.06588      |\n",
       "| 2006-04-01    | Partly Cloudy | rain          | 0.72          | 12.5258       | 279           | 1017.22       |  9.9820       | 11.27428      |\n",
       "| 2006-04-01    | Partly Cloudy | rain          | 0.67          | 17.5651       | 290           | 1017.42       | 11.2056       | 11.52665      |\n",
       "| 2006-04-01    | Partly Cloudy | rain          | 0.54          | 19.7869       | 316           | 1017.74       | 11.4471       | 11.82588      |\n",
       "| 2006-04-01    | Partly Cloudy | rain          | 0.55          | 21.9443       | 281           | 1017.59       | 11.2700       | 11.84853      |\n",
       "| 2006-04-01    | Partly Cloudy | rain          | 0.51          | 20.6885       | 289           | 1017.48       | 11.2700       | 11.87605      |\n",
       "| 2006-04-01    | Partly Cloudy | rain          | 0.47          | 15.3755       | 262           | 1017.17       | 11.4471       | 11.73357      |\n",
       "| 2006-04-01    | Partly Cloudy | rain          | 0.46          | 10.4006       | 288           | 1016.47       | 11.2700       | 11.60777      |\n",
       "| 2006-04-01    | Partly Cloudy | rain          | 0.60          | 14.4095       | 251           | 1016.15       | 11.2700       | 11.49056      |\n",
       "| 2006-04-01    | Mostly Cloudy | rain          | 0.63          | 11.1573       | 230           | 1016.17       | 11.4471       | 11.17232      |\n",
       "| 2006-04-01    | Mostly Cloudy | rain          | 0.69          |  8.5169       | 163           | 1015.82       | 11.2056       | 10.93382      |\n",
       "| 2006-04-01    | Mostly Cloudy | rain          | 0.70          |  7.6314       | 139           | 1015.83       | 11.2056       | 10.86812      |\n",
       "| 2006-04-01    | Mostly Cloudy | rain          | 0.77          |  7.3899       | 147           | 1015.85       | 11.0285       | 10.76426      |\n",
       "| 2006-04-01    | Mostly Cloudy | rain          | 0.76          |  4.9266       | 160           | 1015.77       |  9.9820       | 10.71233      |\n",
       "| 2006-04-01    | Partly Cloudy | rain          | 0.79          |  6.6493       | 163           | 1015.40       | 15.8263       | 10.86822      |\n",
       "| 2006-04-01    | Mostly Cloudy | rain          | 0.77          |  3.9284       | 152           | 1015.51       | 14.9569       | 10.65820      |\n",
       "| 2006-04-10    | Partly Cloudy | rain          | 0.62          | 16.9855       | 150           | 1014.40       | 15.8263       | 11.44396      |\n",
       "| 2006-04-10    | Partly Cloudy | rain          | 0.66          | 17.2109       | 149           | 1014.20       | 15.8263       | 11.38941      |\n",
       "| 2006-04-10    | Mostly Cloudy | rain          | 0.80          | 10.8192       | 163           | 1008.71       | 14.9569       | 10.83474      |\n",
       "| 2006-04-10    | Partly Cloudy | rain          | 0.79          | 11.0768       | 180           | 1014.47       | 15.8263       | 11.02320      |\n",
       "| 2006-04-10    | Partly Cloudy | rain          | 0.82          |  6.6493       | 161           | 1014.45       | 15.8263       | 10.81834      |\n",
       "| 2006-04-10    | Partly Cloudy | rain          | 0.83          | 13.0088       | 135           | 1014.49       | 14.9569       | 10.98379      |\n",
       "| ... | ... | ... | ... | ... | ... | ... | ... | ... |\n",
       "| 2011-05-20    | Partly Cloudy | rain          | 0.96          | 0.0000        |   0           | 1019.29       |  9.9820       |  9.737853     |\n",
       "| 2011-05-20    | Partly Cloudy | rain          | 0.96          | 3.2200        | 320           | 1019.49       |  9.9820       | 10.121599     |\n",
       "| 2011-05-20    | Clear         | rain          | 0.87          | 5.4901        | 166           | 1019.37       |  8.4203       | 10.896620     |\n",
       "| 2011-05-20    | Partly Cloudy | rain          | 0.84          | 4.7495        | 139           | 1019.68       |  9.9820       | 10.178420     |\n",
       "| 2011-05-20    | Partly Cloudy | rain          | 0.76          | 3.1395        | 168           | 1019.88       |  9.9820       | 10.269751     |\n",
       "| 2011-05-20    | Partly Cloudy | rain          | 0.68          | 3.2522        | 170           | 1019.81       |  9.9820       | 10.390713     |\n",
       "| 2011-05-20    | Partly Cloudy | rain          | 0.64          | 4.6368        | 218           | 1020.07       |  9.9820       | 10.536653     |\n",
       "| 2011-05-20    | Partly Cloudy | rain          | 0.58          | 7.3738        | 170           | 1020.07       |  9.9820       | 10.667218     |\n",
       "| 2011-05-20    | Mostly Cloudy | rain          | 0.46          | 5.0554        | 190           | 1020.11       | 10.0303       | 10.646415     |\n",
       "| 2011-05-20    | Partly Cloudy | rain          | 0.42          | 3.2361        |  94           | 1020.05       | 10.0464       | 10.700626     |\n",
       "| 2011-05-20    | Mostly Cloudy | rain          | 0.41          | 4.6207        | 247           | 1019.56       | 10.0464       | 10.758268     |\n",
       "| 2011-05-20    | Mostly Cloudy | rain          | 0.39          | 7.1162        | 258           | 1019.17       | 10.0464       | 10.877633     |\n",
       "| 2011-05-20    | Mostly Cloudy | rain          | 0.35          | 7.5348        | 285           | 1018.47       | 10.0464       | 10.975096     |\n",
       "| 2011-05-20    | Mostly Cloudy | rain          | 0.38          | 4.4436        | 282           | 1017.96       | 10.0464       | 10.827813     |\n",
       "| 2011-05-20    | Mostly Cloudy | rain          | 0.37          | 2.9785        | 258           | 1017.70       | 11.4471       | 10.773170     |\n",
       "| 2011-05-20    | Mostly Cloudy | rain          | 0.37          | 4.0411        | 310           | 1017.27       | 11.2700       | 10.855061     |\n",
       "| 2011-05-20    | Mostly Cloudy | rain          | 0.53          | 1.6261        | 305           | 1017.58       | 10.0464       | 10.538387     |\n",
       "| 2011-05-20    | Mostly Cloudy | rain          | 0.65          | 0.1771        | 139           | 1017.66       | 10.3523       | 10.168512     |\n",
       "| 2011-05-20    | Mostly Cloudy | rain          | 0.78          | 3.2200        | 330           | 1018.10       |  9.9820       | 10.249080     |\n",
       "| 2011-05-20    | Partly Cloudy | rain          | 0.89          | 3.2200        |  50           | 1018.79       | 11.9784       |  9.979061     |\n",
       "| 2011-05-20    | Partly Cloudy | rain          | 0.88          | 1.5295        |  39           | 1018.98       | 12.0428       |  9.931688     |\n",
       "| 2011-05-21    | Partly Cloudy | rain          | 0.90          | 3.2200        |  80           | 1018.72       |  9.9820       |  9.991266     |\n",
       "| 2011-05-21    | Partly Cloudy | rain          | 0.93          | 0.0000        |   0           | 1018.61       |  9.9820       |  9.779094     |\n",
       "| 2011-05-21    | Mostly Cloudy | rain          | 0.92          | 5.9570        | 333           | 1018.44       | 14.7154       | 10.135840     |\n",
       "| 2011-05-21    | Mostly Cloudy | rain          | 0.93          | 3.2200        | 310           | 1018.63       |  8.1305       | 10.016506     |\n",
       "| 2011-05-21    | Mostly Cloudy | rain          | 0.93          | 0.0000        |   0           | 1018.81       |  6.2951       |  9.643903     |\n",
       "| 2011-05-21    | Mostly Cloudy | rain          | 0.96          | 3.0107        |  30           | 1018.86       |  6.8425       |  9.719552     |\n",
       "| 2011-05-21    | Overcast      | rain          | 0.93          | 0.0000        |   0           | 1019.30       |  6.2951       |  8.119248     |\n",
       "| 2011-05-21    | Mostly Cloudy | rain          | 0.84          | 0.1449        |  80           | 1019.41       |  8.1305       |  9.845805     |\n",
       "| 2011-05-21    | Mostly Cloudy | rain          | 0.70          | 7.9534        | 342           | 1019.54       |  9.9820       | 10.525717     |\n",
       "\n"
      ],
      "text/plain": [
       "      Formatted.Date Summary       Precip.Type Humidity Wind.Speed..km.h.\n",
       "1     2006-04-01     Partly Cloudy rain        0.89     14.1197          \n",
       "2     2006-04-01     Partly Cloudy rain        0.86     14.2646          \n",
       "3     2006-04-01     Mostly Cloudy rain        0.89      3.9284          \n",
       "4     2006-04-01     Partly Cloudy rain        0.83     14.1036          \n",
       "5     2006-04-01     Mostly Cloudy rain        0.83     11.0446          \n",
       "6     2006-04-01     Partly Cloudy rain        0.85     13.9587          \n",
       "7     2006-04-01     Partly Cloudy rain        0.95     12.3648          \n",
       "8     2006-04-01     Partly Cloudy rain        0.89     14.1519          \n",
       "9     2006-04-01     Partly Cloudy rain        0.82     11.3183          \n",
       "10    2006-04-01     Partly Cloudy rain        0.72     12.5258          \n",
       "11    2006-04-01     Partly Cloudy rain        0.67     17.5651          \n",
       "12    2006-04-01     Partly Cloudy rain        0.54     19.7869          \n",
       "13    2006-04-01     Partly Cloudy rain        0.55     21.9443          \n",
       "14    2006-04-01     Partly Cloudy rain        0.51     20.6885          \n",
       "15    2006-04-01     Partly Cloudy rain        0.47     15.3755          \n",
       "16    2006-04-01     Partly Cloudy rain        0.46     10.4006          \n",
       "17    2006-04-01     Partly Cloudy rain        0.60     14.4095          \n",
       "18    2006-04-01     Mostly Cloudy rain        0.63     11.1573          \n",
       "19    2006-04-01     Mostly Cloudy rain        0.69      8.5169          \n",
       "20    2006-04-01     Mostly Cloudy rain        0.70      7.6314          \n",
       "21    2006-04-01     Mostly Cloudy rain        0.77      7.3899          \n",
       "22    2006-04-01     Mostly Cloudy rain        0.76      4.9266          \n",
       "23    2006-04-01     Partly Cloudy rain        0.79      6.6493          \n",
       "24    2006-04-01     Mostly Cloudy rain        0.77      3.9284          \n",
       "25    2006-04-10     Partly Cloudy rain        0.62     16.9855          \n",
       "26    2006-04-10     Partly Cloudy rain        0.66     17.2109          \n",
       "27    2006-04-10     Mostly Cloudy rain        0.80     10.8192          \n",
       "28    2006-04-10     Partly Cloudy rain        0.79     11.0768          \n",
       "29    2006-04-10     Partly Cloudy rain        0.82      6.6493          \n",
       "30    2006-04-10     Partly Cloudy rain        0.83     13.0088          \n",
       "...   ...            ...           ...         ...      ...              \n",
       "48606 2011-05-20     Partly Cloudy rain        0.96     0.0000           \n",
       "48607 2011-05-20     Partly Cloudy rain        0.96     3.2200           \n",
       "48608 2011-05-20     Clear         rain        0.87     5.4901           \n",
       "48609 2011-05-20     Partly Cloudy rain        0.84     4.7495           \n",
       "48610 2011-05-20     Partly Cloudy rain        0.76     3.1395           \n",
       "48611 2011-05-20     Partly Cloudy rain        0.68     3.2522           \n",
       "48612 2011-05-20     Partly Cloudy rain        0.64     4.6368           \n",
       "48613 2011-05-20     Partly Cloudy rain        0.58     7.3738           \n",
       "48614 2011-05-20     Mostly Cloudy rain        0.46     5.0554           \n",
       "48615 2011-05-20     Partly Cloudy rain        0.42     3.2361           \n",
       "48616 2011-05-20     Mostly Cloudy rain        0.41     4.6207           \n",
       "48617 2011-05-20     Mostly Cloudy rain        0.39     7.1162           \n",
       "48618 2011-05-20     Mostly Cloudy rain        0.35     7.5348           \n",
       "48619 2011-05-20     Mostly Cloudy rain        0.38     4.4436           \n",
       "48620 2011-05-20     Mostly Cloudy rain        0.37     2.9785           \n",
       "48621 2011-05-20     Mostly Cloudy rain        0.37     4.0411           \n",
       "48622 2011-05-20     Mostly Cloudy rain        0.53     1.6261           \n",
       "48623 2011-05-20     Mostly Cloudy rain        0.65     0.1771           \n",
       "48624 2011-05-20     Mostly Cloudy rain        0.78     3.2200           \n",
       "48625 2011-05-20     Partly Cloudy rain        0.89     3.2200           \n",
       "48626 2011-05-20     Partly Cloudy rain        0.88     1.5295           \n",
       "48627 2011-05-21     Partly Cloudy rain        0.90     3.2200           \n",
       "48628 2011-05-21     Partly Cloudy rain        0.93     0.0000           \n",
       "48629 2011-05-21     Mostly Cloudy rain        0.92     5.9570           \n",
       "48630 2011-05-21     Mostly Cloudy rain        0.93     3.2200           \n",
       "48631 2011-05-21     Mostly Cloudy rain        0.93     0.0000           \n",
       "48632 2011-05-21     Mostly Cloudy rain        0.96     3.0107           \n",
       "48633 2011-05-21     Overcast      rain        0.93     0.0000           \n",
       "48634 2011-05-21     Mostly Cloudy rain        0.84     0.1449           \n",
       "48635 2011-05-21     Mostly Cloudy rain        0.70     7.9534           \n",
       "      Wind.Bearing..degrees. Pressure..millibars. Visibility yhat     \n",
       "1     251                    1015.13              15.8263    11.04210 \n",
       "2     259                    1015.63              15.8263    11.09973 \n",
       "3     204                    1015.94              14.9569    10.53068 \n",
       "4     269                    1016.41              15.8263    11.14974 \n",
       "5     259                    1016.51              15.8263    10.89731 \n",
       "6     258                    1016.66              14.9569    11.10490 \n",
       "7     259                    1016.72               9.9820    10.90515 \n",
       "8     260                    1016.84               9.9820    11.05333 \n",
       "9     259                    1017.37               9.9820    11.06588 \n",
       "10    279                    1017.22               9.9820    11.27428 \n",
       "11    290                    1017.42              11.2056    11.52665 \n",
       "12    316                    1017.74              11.4471    11.82588 \n",
       "13    281                    1017.59              11.2700    11.84853 \n",
       "14    289                    1017.48              11.2700    11.87605 \n",
       "15    262                    1017.17              11.4471    11.73357 \n",
       "16    288                    1016.47              11.2700    11.60777 \n",
       "17    251                    1016.15              11.2700    11.49056 \n",
       "18    230                    1016.17              11.4471    11.17232 \n",
       "19    163                    1015.82              11.2056    10.93382 \n",
       "20    139                    1015.83              11.2056    10.86812 \n",
       "21    147                    1015.85              11.0285    10.76426 \n",
       "22    160                    1015.77               9.9820    10.71233 \n",
       "23    163                    1015.40              15.8263    10.86822 \n",
       "24    152                    1015.51              14.9569    10.65820 \n",
       "25    150                    1014.40              15.8263    11.44396 \n",
       "26    149                    1014.20              15.8263    11.38941 \n",
       "27    163                    1008.71              14.9569    10.83474 \n",
       "28    180                    1014.47              15.8263    11.02320 \n",
       "29    161                    1014.45              15.8263    10.81834 \n",
       "30    135                    1014.49              14.9569    10.98379 \n",
       "...   ...                    ...                  ...        ...      \n",
       "48606   0                    1019.29               9.9820     9.737853\n",
       "48607 320                    1019.49               9.9820    10.121599\n",
       "48608 166                    1019.37               8.4203    10.896620\n",
       "48609 139                    1019.68               9.9820    10.178420\n",
       "48610 168                    1019.88               9.9820    10.269751\n",
       "48611 170                    1019.81               9.9820    10.390713\n",
       "48612 218                    1020.07               9.9820    10.536653\n",
       "48613 170                    1020.07               9.9820    10.667218\n",
       "48614 190                    1020.11              10.0303    10.646415\n",
       "48615  94                    1020.05              10.0464    10.700626\n",
       "48616 247                    1019.56              10.0464    10.758268\n",
       "48617 258                    1019.17              10.0464    10.877633\n",
       "48618 285                    1018.47              10.0464    10.975096\n",
       "48619 282                    1017.96              10.0464    10.827813\n",
       "48620 258                    1017.70              11.4471    10.773170\n",
       "48621 310                    1017.27              11.2700    10.855061\n",
       "48622 305                    1017.58              10.0464    10.538387\n",
       "48623 139                    1017.66              10.3523    10.168512\n",
       "48624 330                    1018.10               9.9820    10.249080\n",
       "48625  50                    1018.79              11.9784     9.979061\n",
       "48626  39                    1018.98              12.0428     9.931688\n",
       "48627  80                    1018.72               9.9820     9.991266\n",
       "48628   0                    1018.61               9.9820     9.779094\n",
       "48629 333                    1018.44              14.7154    10.135840\n",
       "48630 310                    1018.63               8.1305    10.016506\n",
       "48631   0                    1018.81               6.2951     9.643903\n",
       "48632  30                    1018.86               6.8425     9.719552\n",
       "48633   0                    1019.30               6.2951     8.119248\n",
       "48634  80                    1019.41               8.1305     9.845805\n",
       "48635 342                    1019.54               9.9820    10.525717"
      ]
     },
     "metadata": {},
     "output_type": "display_data"
    }
   ],
   "source": [
    "rm_out_df"
   ]
  },
  {
   "cell_type": "markdown",
   "metadata": {},
   "source": [
    "유의확률 2.2e-16(=0.000)이므로 유의수준 0.05에서 회귀모형은 통계적으로 타당하다. 즉, 독립변수들이 영향을 준다."
   ]
  }
 ],
 "metadata": {
  "kernelspec": {
   "display_name": "R",
   "language": "R",
   "name": "ir"
  },
  "language_info": {
   "codemirror_mode": "r",
   "file_extension": ".r",
   "mimetype": "text/x-r-source",
   "name": "R",
   "pygments_lexer": "r",
   "version": "3.6.1"
  }
 },
 "nbformat": 4,
 "nbformat_minor": 2
}
